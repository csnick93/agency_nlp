{
  "nbformat": 4,
  "nbformat_minor": 0,
  "metadata": {
    "colab": {
      "name": "NLP Oct 2020",
      "provenance": [],
      "collapsed_sections": [
        "nzlvaZ6Z5Ujy",
        "tESV0Z1S5X1c",
        "pXj-uRre5osG"
      ],
      "authorship_tag": "ABX9TyPh0fRXq5K/v5LMqsl+Z7rO",
      "include_colab_link": true
    },
    "kernelspec": {
      "name": "python3",
      "display_name": "Python 3"
    },
    "accelerator": "GPU"
  },
  "cells": [
    {
      "cell_type": "markdown",
      "metadata": {
        "id": "view-in-github",
        "colab_type": "text"
      },
      "source": [
        "<a href=\"https://colab.research.google.com/github/csnick93/agency_nlp/blob/master/NLP_Oct_2020.ipynb\" target=\"_parent\"><img src=\"https://colab.research.google.com/assets/colab-badge.svg\" alt=\"Open In Colab\"/></a>"
      ]
    },
    {
      "cell_type": "code",
      "metadata": {
        "id": "DWulkG4nkXmR",
        "outputId": "cd12d19a-e514-4996-ac48-4ab59bf1a196",
        "colab": {
          "base_uri": "https://localhost:8080/",
          "height": 221
        }
      },
      "source": [
        "!pip install -Uqq fastbook\n",
        "import fastbook\n",
        "fastbook.setup_book()"
      ],
      "execution_count": 1,
      "outputs": [
        {
          "output_type": "stream",
          "text": [
            "\u001b[K     |████████████████████████████████| 727kB 7.8MB/s \n",
            "\u001b[K     |████████████████████████████████| 1.0MB 27.0MB/s \n",
            "\u001b[K     |████████████████████████████████| 194kB 47.3MB/s \n",
            "\u001b[K     |████████████████████████████████| 51kB 9.4MB/s \n",
            "\u001b[K     |████████████████████████████████| 51kB 8.5MB/s \n",
            "\u001b[K     |████████████████████████████████| 51kB 8.6MB/s \n",
            "\u001b[K     |████████████████████████████████| 92kB 12.0MB/s \n",
            "\u001b[K     |████████████████████████████████| 40kB 4.6MB/s \n",
            "\u001b[K     |████████████████████████████████| 51kB 9.3MB/s \n",
            "\u001b[K     |████████████████████████████████| 61kB 11.2MB/s \n",
            "\u001b[K     |████████████████████████████████| 2.6MB 52.1MB/s \n",
            "\u001b[?25hMounted at /content/gdrive\n"
          ],
          "name": "stdout"
        }
      ]
    },
    {
      "cell_type": "code",
      "metadata": {
        "id": "57PbwK7bd9jE"
      },
      "source": [
        "import pandas as pd"
      ],
      "execution_count": 2,
      "outputs": []
    },
    {
      "cell_type": "markdown",
      "metadata": {
        "id": "-kLpIuUe4ow-"
      },
      "source": [
        "# Mounting Google Drive as File Storage"
      ]
    },
    {
      "cell_type": "code",
      "metadata": {
        "id": "adFkQ6gV0mcj",
        "outputId": "9abba848-4c14-4f81-a443-0ef48ef9f987",
        "colab": {
          "base_uri": "https://localhost:8080/",
          "height": 34
        }
      },
      "source": [
        "from google.colab import drive\n",
        "drive.mount('/content/drive')"
      ],
      "execution_count": 3,
      "outputs": [
        {
          "output_type": "stream",
          "text": [
            "Mounted at /content/drive\n"
          ],
          "name": "stdout"
        }
      ]
    },
    {
      "cell_type": "code",
      "metadata": {
        "id": "jtGDtCfI0-Ca"
      },
      "source": [
        "data_folder = '/content/drive/My Drive/Colab Notebooks/'"
      ],
      "execution_count": 4,
      "outputs": []
    },
    {
      "cell_type": "markdown",
      "metadata": {
        "id": "isFTWt1b4vQk"
      },
      "source": [
        "# Imports"
      ]
    },
    {
      "cell_type": "code",
      "metadata": {
        "id": "StsMFtEhxqwD"
      },
      "source": [
        "from fastai.text import * \n",
        "from fastai.text.all import *"
      ],
      "execution_count": 5,
      "outputs": []
    },
    {
      "cell_type": "markdown",
      "metadata": {
        "id": "kGc4NabH46by"
      },
      "source": [
        "# Prepare Data"
      ]
    },
    {
      "cell_type": "code",
      "metadata": {
        "id": "P4vs4NzgxqwM",
        "outputId": "77591612-b137-42ff-d336-323d363f62de",
        "colab": {
          "base_uri": "https://localhost:8080/",
          "height": 765
        }
      },
      "source": [
        "df = pd.read_csv(os.path.join(data_folder,'AgencyHTMLData.csv'))\n",
        "df = df.drop(columns=['Unnamed: 0', 'agency','complete url','Category','y0','keywords'])\n",
        "df.head()"
      ],
      "execution_count": 6,
      "outputs": [
        {
          "output_type": "execute_result",
          "data": {
            "text/html": [
              "<div>\n",
              "<style scoped>\n",
              "    .dataframe tbody tr th:only-of-type {\n",
              "        vertical-align: middle;\n",
              "    }\n",
              "\n",
              "    .dataframe tbody tr th {\n",
              "        vertical-align: top;\n",
              "    }\n",
              "\n",
              "    .dataframe thead th {\n",
              "        text-align: right;\n",
              "    }\n",
              "</style>\n",
              "<table border=\"1\" class=\"dataframe\">\n",
              "  <thead>\n",
              "    <tr style=\"text-align: right;\">\n",
              "      <th></th>\n",
              "      <th>domain</th>\n",
              "      <th>check</th>\n",
              "      <th>html_code</th>\n",
              "      <th>text_from_html</th>\n",
              "    </tr>\n",
              "  </thead>\n",
              "  <tbody>\n",
              "    <tr>\n",
              "      <th>0</th>\n",
              "      <td>ruckusmarketing.com</td>\n",
              "      <td>y</td>\n",
              "      <td>b'&lt;!doctype html&gt;\\n&lt;html lang=\"en-US\"&gt;\\n\\n&lt;head&gt;\\n  &lt;meta http-equiv=\"X-UA-Compatible\" content=\"IE=edge\"&gt;\\n  &lt;meta charset=\"UTF-8\"&gt;\\n  &lt;meta name=\"viewport\" content=\"width=device-width, initial-scale=1\"&gt;\\n  &lt;link rel=\"profile\" href=\"https://gmpg.org/xfn/11\"&gt;\\n  &lt;title&gt;Ruckus &amp;ndash; Top NY Advertising &amp;amp; Digital Agency&lt;/title&gt;\\n\\n&lt;!-- This site is optimized with the Yoast SEO plugin v13.4.1 - https://yoast.com/wordpress/plugins/seo/ --&gt;\\n&lt;meta name=\"description\" content=\"Ruckus is a full-service digital agency specializing in web design, app development, branding &amp;amp; interactive marke...</td>\n",
              "      <td>ruckus top ny advertising digital agency work services about news careers contact got a project tell us everything info ruckusco com let s talk a business minded agency creative powerhouse a masterful team that executes every engagement with precision prowess and power disruption is in our dna check out our work ces disruption the mobileye exhibition by ruckus took ces by storm garnering international attention see what we did farms baby goats and skincare success beekman re platforms to shopify plus and launches a new skincare focused ecommerce experience see what we did performance is e...</td>\n",
              "    </tr>\n",
              "    <tr>\n",
              "      <th>1</th>\n",
              "      <td>tenetpartners.com</td>\n",
              "      <td>y</td>\n",
              "      <td>b'&lt;!DOCTYPE html&gt;&lt;html lang=\"en\" class=\"no-js home\"&gt;&lt;head&gt;&lt;meta charset=\"utf-8\"&gt;&lt;title&gt;Tenet Partners | Where brand meets innovation&amp;reg;&lt;/title&gt;&lt;meta name=\"twitter:card\" content=\"summary\"&gt;&lt;meta name=\"twitter:site\" content=\"@tenetpartners\"&gt;&lt;meta name=\"twitter:title\" content=\"Tenet Partners | Where brand meets innovation&amp;reg;\"&gt;&lt;meta property=\"og:site_name\" content=\"Tenet Partners\"&gt;&lt;meta property=\"og:title\" content=\"Tenet Partners | Where brand meets innovation&amp;reg;\"&gt;&lt;link rel=\"canonical\" href=\"https://tenetpartners.com/\"&gt;&lt;meta name=\"twitter:url\" content=\"https://tenetpartners.com/\"&gt;&lt;meta pr...</td>\n",
              "      <td>tenet partners where brand meets innovation tenet partners menu contentswhat we doour workour insightsnewsabout uscontact where brand meets innovation see how we can help youtenet partners transforms customer experiences and drives growth by fusing innovation and brand distinct disciplines integrally linkedbranding expresses what an entire organization stands for across all aspects of its business innovation delivers new signature experiences through design to meet consumer needs we connect branding and innovation to create value for you and your customers our work case studyapm terminalsr...</td>\n",
              "    </tr>\n",
              "    <tr>\n",
              "      <th>2</th>\n",
              "      <td>brandtuitive.com</td>\n",
              "      <td>y</td>\n",
              "      <td>b'&lt;!doctype html&gt;\\n&lt;html xmlns:og=\"http://opengraphprotocol.org/schema/\" xmlns:fb=\"http://www.facebook.com/2008/fbml\" lang=\"en-US\"  class=\"touch-styles\"&gt;\\n  &lt;head&gt;\\n    &lt;meta http-equiv=\"X-UA-Compatible\" content=\"IE=edge,chrome=1\"&gt;\\n    \\n    &lt;meta name=\"viewport\" content=\"width=device-width, initial-scale=1\"&gt;\\n    \\n    &lt;!-- This is Squarespace. --&gt;&lt;!-- brandtuitive --&gt;\\n&lt;base href=\"\"&gt;\\n&lt;meta charset=\"utf-8\" /&gt;\\n&lt;title&gt;BrandTuitive | Top Branding &amp;amp; Brand Marketing Agency in NYC&lt;/title&gt;\\n&lt;link rel=\"shortcut icon\" type=\"image/x-icon\" href=\"https://images.squarespace-cdn.com/content/v1/5...</td>\n",
              "      <td>brandtuitive top branding brand marketing agency in nyc branding brand marketing work sharing the love contact branding brand marketing work sharing the love contact we don t create brands we reveal them we don t make anything up whether you re a well established company or a brand new start up the truth is you re bringing something great to the world let us reveal your greatness and build your business through a perfect storm of smart strategy and beautiful design branding brand marketing is your brand the star of your customers movie in the mind movie in the mind people think in picture...</td>\n",
              "    </tr>\n",
              "    <tr>\n",
              "      <th>3</th>\n",
              "      <td>venthio.com</td>\n",
              "      <td>y</td>\n",
              "      <td>b'&lt;!doctype html&gt;\\n&lt;html lang=\"en-US\" prefix=\"og: http://ogp.me/ns#\"&gt;\\n&lt;head&gt;\\n    &lt;meta charset=\"UTF-8\"&gt;\\n    &lt;meta name=\"viewport\" content=\"width=device-width, initial-scale=1\"&gt;\\n    &lt;link rel=\"profile\" href=\"https://gmpg.org/xfn/11\"&gt;\\n\\n    &lt;title&gt;Home | Venthio: Building Brands, Businesses, &amp;amp; Bottom-lines&lt;/title&gt;\\n\\n&lt;!-- This site is optimized with the Yoast SEO plugin v9.0.3 - https://yoast.com/wordpress/plugins/seo/ --&gt;\\n&lt;meta name=\"description\" content=\"At Venthio, our brands are built on 3 principles: Insight, Intelligence, &amp;amp; Design. We filter every direction and decision t...</td>\n",
              "      <td>home venthio building brands businesses bottom lines home agency work crew careers connect connect venthio com videos menu venthio building brands businesses bottom lines work contact stand outbrandsare built on principles clarifying your customer s needs perceptions and motivations as well as competitive and economic realities in existing and or new markets insight applying thinking to discover and develop the big idea or core purpose that drives customer acquisition activation and brand value intelligence bringing a clear sensible plan to create or develop the brand platform and generat...</td>\n",
              "    </tr>\n",
              "    <tr>\n",
              "      <th>4</th>\n",
              "      <td>wantbranding.com</td>\n",
              "      <td>y</td>\n",
              "      <td>b'&lt;!DOCTYPE html&gt;\\n&lt;html lang=\"en-US\" itemscope itemtype=\"http://schema.org/WebPage\"&gt;\\n&lt;head&gt;\\n&lt;meta charset=\"UTF-8\"&gt;\\n&lt;link rel=\"profile\" href=\"http://gmpg.org/xfn/11\"&gt;\\n&lt;meta name=\"viewport\" content=\"width=device-width, initial-scale=1\"&gt;\\r\\n&lt;meta http-equiv=\"X-UA-Compatible\" content=\"IE=edge\" /&gt;\\r\\n&lt;meta name=\"generator\" content=\"Total WordPress Theme 4.9.9.2\" /&gt;\\r\\n\\n\\t&lt;!-- This site is optimized with the Yoast SEO plugin v15.1.1 - https://yoast.com/wordpress/plugins/seo/ --&gt;\\n\\t&lt;title&gt;Home - wantbranding&lt;/title&gt;\\n\\t&lt;meta name=\"description\" content=\"WANT\\xe2\\x84\\xa2 is one of America\\xe...</td>\n",
              "      <td>home wantbranding skip to main content let s talk work about news let s talk clutch top ranked brand agency in the usclutch top ranked brand agency in the uswe create brands that demand attention deliver performance and help you win want is one of america s leading branding agencies we deliver world class brand strategy brand naming and brand identity solutions for companies who want to unlock the power and value of their brands for years we ve helped more than companies create powerful and memorable brands that delight customers outflank the competition and achieve extraordinary business...</td>\n",
              "    </tr>\n",
              "  </tbody>\n",
              "</table>\n",
              "</div>"
            ],
            "text/plain": [
              "                domain check  \\\n",
              "0  ruckusmarketing.com     y   \n",
              "1    tenetpartners.com     y   \n",
              "2     brandtuitive.com     y   \n",
              "3          venthio.com     y   \n",
              "4     wantbranding.com     y   \n",
              "\n",
              "                                                                                                                                                                                                                                                                                                                                                                                                                                                                                                                                                                                                                 html_code  \\\n",
              "0  b'<!doctype html>\\n<html lang=\"en-US\">\\n\\n<head>\\n  <meta http-equiv=\"X-UA-Compatible\" content=\"IE=edge\">\\n  <meta charset=\"UTF-8\">\\n  <meta name=\"viewport\" content=\"width=device-width, initial-scale=1\">\\n  <link rel=\"profile\" href=\"https://gmpg.org/xfn/11\">\\n  <title>Ruckus &ndash; Top NY Advertising &amp; Digital Agency</title>\\n\\n<!-- This site is optimized with the Yoast SEO plugin v13.4.1 - https://yoast.com/wordpress/plugins/seo/ -->\\n<meta name=\"description\" content=\"Ruckus is a full-service digital agency specializing in web design, app development, branding &amp; interactive marke...   \n",
              "1  b'<!DOCTYPE html><html lang=\"en\" class=\"no-js home\"><head><meta charset=\"utf-8\"><title>Tenet Partners | Where brand meets innovation&reg;</title><meta name=\"twitter:card\" content=\"summary\"><meta name=\"twitter:site\" content=\"@tenetpartners\"><meta name=\"twitter:title\" content=\"Tenet Partners | Where brand meets innovation&reg;\"><meta property=\"og:site_name\" content=\"Tenet Partners\"><meta property=\"og:title\" content=\"Tenet Partners | Where brand meets innovation&reg;\"><link rel=\"canonical\" href=\"https://tenetpartners.com/\"><meta name=\"twitter:url\" content=\"https://tenetpartners.com/\"><meta pr...   \n",
              "2  b'<!doctype html>\\n<html xmlns:og=\"http://opengraphprotocol.org/schema/\" xmlns:fb=\"http://www.facebook.com/2008/fbml\" lang=\"en-US\"  class=\"touch-styles\">\\n  <head>\\n    <meta http-equiv=\"X-UA-Compatible\" content=\"IE=edge,chrome=1\">\\n    \\n    <meta name=\"viewport\" content=\"width=device-width, initial-scale=1\">\\n    \\n    <!-- This is Squarespace. --><!-- brandtuitive -->\\n<base href=\"\">\\n<meta charset=\"utf-8\" />\\n<title>BrandTuitive | Top Branding &amp; Brand Marketing Agency in NYC</title>\\n<link rel=\"shortcut icon\" type=\"image/x-icon\" href=\"https://images.squarespace-cdn.com/content/v1/5...   \n",
              "3  b'<!doctype html>\\n<html lang=\"en-US\" prefix=\"og: http://ogp.me/ns#\">\\n<head>\\n    <meta charset=\"UTF-8\">\\n    <meta name=\"viewport\" content=\"width=device-width, initial-scale=1\">\\n    <link rel=\"profile\" href=\"https://gmpg.org/xfn/11\">\\n\\n    <title>Home | Venthio: Building Brands, Businesses, &amp; Bottom-lines</title>\\n\\n<!-- This site is optimized with the Yoast SEO plugin v9.0.3 - https://yoast.com/wordpress/plugins/seo/ -->\\n<meta name=\"description\" content=\"At Venthio, our brands are built on 3 principles: Insight, Intelligence, &amp; Design. We filter every direction and decision t...   \n",
              "4  b'<!DOCTYPE html>\\n<html lang=\"en-US\" itemscope itemtype=\"http://schema.org/WebPage\">\\n<head>\\n<meta charset=\"UTF-8\">\\n<link rel=\"profile\" href=\"http://gmpg.org/xfn/11\">\\n<meta name=\"viewport\" content=\"width=device-width, initial-scale=1\">\\r\\n<meta http-equiv=\"X-UA-Compatible\" content=\"IE=edge\" />\\r\\n<meta name=\"generator\" content=\"Total WordPress Theme 4.9.9.2\" />\\r\\n\\n\\t<!-- This site is optimized with the Yoast SEO plugin v15.1.1 - https://yoast.com/wordpress/plugins/seo/ -->\\n\\t<title>Home - wantbranding</title>\\n\\t<meta name=\"description\" content=\"WANT\\xe2\\x84\\xa2 is one of America\\xe...   \n",
              "\n",
              "                                                                                                                                                                                                                                                                                                                                                                                                                                                                                                                                                                                                            text_from_html  \n",
              "0   ruckus top ny advertising digital agency work services about news careers contact got a project tell us everything info ruckusco com let s talk a business minded agency creative powerhouse a masterful team that executes every engagement with precision prowess and power disruption is in our dna check out our work ces disruption the mobileye exhibition by ruckus took ces by storm garnering international attention see what we did farms baby goats and skincare success beekman re platforms to shopify plus and launches a new skincare focused ecommerce experience see what we did performance is e...  \n",
              "1  tenet partners where brand meets innovation tenet partners menu contentswhat we doour workour insightsnewsabout uscontact where brand meets innovation see how we can help youtenet partners transforms customer experiences and drives growth by fusing innovation and brand distinct disciplines integrally linkedbranding expresses what an entire organization stands for across all aspects of its business innovation delivers new signature experiences through design to meet consumer needs we connect branding and innovation to create value for you and your customers our work case studyapm terminalsr...  \n",
              "2   brandtuitive top branding brand marketing agency in nyc branding brand marketing work sharing the love contact branding brand marketing work sharing the love contact we don t create brands we reveal them we don t make anything up whether you re a well established company or a brand new start up the truth is you re bringing something great to the world let us reveal your greatness and build your business through a perfect storm of smart strategy and beautiful design branding brand marketing is your brand the star of your customers movie in the mind movie in the mind people think in picture...  \n",
              "3   home venthio building brands businesses bottom lines home agency work crew careers connect connect venthio com videos menu venthio building brands businesses bottom lines work contact stand outbrandsare built on principles clarifying your customer s needs perceptions and motivations as well as competitive and economic realities in existing and or new markets insight applying thinking to discover and develop the big idea or core purpose that drives customer acquisition activation and brand value intelligence bringing a clear sensible plan to create or develop the brand platform and generat...  \n",
              "4   home wantbranding skip to main content let s talk work about news let s talk clutch top ranked brand agency in the usclutch top ranked brand agency in the uswe create brands that demand attention deliver performance and help you win want is one of america s leading branding agencies we deliver world class brand strategy brand naming and brand identity solutions for companies who want to unlock the power and value of their brands for years we ve helped more than companies create powerful and memorable brands that delight customers outflank the competition and achieve extraordinary business...  "
            ]
          },
          "metadata": {
            "tags": []
          },
          "execution_count": 6
        }
      ]
    },
    {
      "cell_type": "code",
      "metadata": {
        "id": "pmk8KkAyj2Fu"
      },
      "source": [
        "txt = ''\n",
        "for i,row in df.iterrows():\n",
        "  txt = txt + ' ' + row['text_from_html']\n"
      ],
      "execution_count": 7,
      "outputs": []
    },
    {
      "cell_type": "code",
      "metadata": {
        "id": "7k8-sY_RkD8C",
        "outputId": "2da1e998-257f-4718-89fe-50aa93cc1eba",
        "colab": {
          "base_uri": "https://localhost:8080/",
          "height": 34
        }
      },
      "source": [
        "len(txt)"
      ],
      "execution_count": 8,
      "outputs": [
        {
          "output_type": "execute_result",
          "data": {
            "text/plain": [
              "4202436"
            ]
          },
          "metadata": {
            "tags": []
          },
          "execution_count": 8
        }
      ]
    },
    {
      "cell_type": "code",
      "metadata": {
        "id": "_WNVu2wqkRPz"
      },
      "source": [
        "spacy = WordTokenizer()\n",
        "#toks = first(spacy([txt]))\n",
        "#print(coll_repr(toks, 30))"
      ],
      "execution_count": 9,
      "outputs": []
    },
    {
      "cell_type": "code",
      "metadata": {
        "id": "uIFEhptdkchM"
      },
      "source": [
        "tkn = Tokenizer(spacy)\n",
        "#print(coll_repr(tkn(txt), 31))"
      ],
      "execution_count": 10,
      "outputs": []
    },
    {
      "cell_type": "code",
      "metadata": {
        "id": "CXqUhPuTkcqd"
      },
      "source": [
        "toks = tkn(txt)\n",
        "#print(coll_repr(tkn(txt), 31))"
      ],
      "execution_count": 13,
      "outputs": []
    },
    {
      "cell_type": "code",
      "metadata": {
        "id": "aQhlmhOS08EU",
        "outputId": "b3ca4b7d-1f66-4bb3-9e22-d79810b9f0c2",
        "colab": {
          "base_uri": "https://localhost:8080/",
          "height": 34
        }
      },
      "source": [
        "toks"
      ],
      "execution_count": 23,
      "outputs": [
        {
          "output_type": "execute_result",
          "data": {
            "text/plain": [
              "(#632833) ['xxbos','ruckus','top','ny','advertising','digital','agency','work','services','about'...]"
            ]
          },
          "metadata": {
            "tags": []
          },
          "execution_count": 23
        }
      ]
    },
    {
      "cell_type": "code",
      "metadata": {
        "id": "yKNGssQK09yz",
        "outputId": "f8913a31-9536-4d44-c75c-3dadaec34f21",
        "colab": {
          "base_uri": "https://localhost:8080/",
          "height": 54
        }
      },
      "source": [
        "toks_z"
      ],
      "execution_count": 24,
      "outputs": [
        {
          "output_type": "execute_result",
          "data": {
            "text/plain": [
              "(#862) [['xxbos', 'ruckus', 'top', 'ny', 'advertising', 'digital', 'agency', 'work', 'services', 'about', 'news', 'careers', 'contact', 'got', 'a', 'project', 'tell', 'us', 'everything', 'info', 'ruckusco', 'com', 'let', 's', 'talk', 'a', 'business', 'minded', 'agency', 'creative', 'powerhouse', 'a', 'masterful', 'team', 'that', 'executes', 'every', 'engagement', 'with', 'precision', 'prowess', 'and', 'power', 'disruption', 'is', 'in', 'our', 'dna', 'check', 'out', 'our', 'work', 'ces', 'disruption', 'the', 'mobileye', 'exhibition', 'by', 'ruckus', 'took', 'ces', 'by', 'storm', 'garnering', 'international', 'attention', 'see', 'what', 'we', 'did', 'farms', 'baby', 'goats', 'and', 'skincare', 'success', 'beekman', 're', 'platforms', 'to', 'shopify', 'plus', 'and', 'launches', 'a', 'new', 'skincare', 'focused', 'ecommerce', 'experience', 'see', 'what', 'we', 'did', 'performance', 'is', 'everything', 'bmw', 'captures', 'the', 'essence', 'of', 'commitment', 'and', 'dedication', 'with', 'jalen', 'mills', 'campaign', 'see', 'what', 'we', 'did', 'the', 'artists', 'that', 'createwith', 'crayola', 'crayola', 'unveils', 'the', 'many', 'incredible', 'talents', 'that', 'inspire', 'us', 'all', 'see', 'what', 'we', 'did', 'for', 'fifteen', 'years', 'ruckus', 'has', 'been', 'delivering', 'work', 'that', 'powers', 'game', 'changing', 'companies', 'and', 'global', 'influencers', 'our', 'core', 'strategic', 'engagements', 'in', 'branding', 'platform', 'design', 'campaigns', 'and', 'content', 'creation', 'consistently', 'drive', 'desired', 'outcomes', 'and', 'awareness', 'see', 'who', 'we', 'are', 'recent', 'work', 'see', 'what', 'we', 'did', 'advertising', 'creative', 'services', 'marketing', 'video', 'production', 'bmw', 'driven', 'by', 'excellence', 'see', 'what', 'we', 'did', 'creative', 'services', 'marketing', 'video', 'production', 'videography', 'petvalu', 'ruff', 'ruffckus', 'see', 'what', 'we', 'did', 'creative', 'services', 'website', 'development', 'advertising', 'iphone', 'android', 'apps', 'nyc', 'ferry', 'back', 'to', 'the', 'water', 'see', 'what', 'we', 'did', 'branding', 'creative', 'services', 'ux', 'ui', 'design', 'website', 'development', 'inturn', 'finding', 'opportunity', 'in', 'excess', 'see', 'what', 'we', 'did', 'video', 'production', 'advertising', 'marketing', 'videography', 'crayola', 'inspired', 'stories', 'see', 'what', 'we', 'did', 'consulting', 'advertising', 'website', 'development', 'creative', 'services', 'tweezerman', 'precision', 'is', 'an', 'art', 'see', 'what', 'we', 'did', 'ux', 'ui', 'design', 'creative', 'services', 'videography', 'video', 'production', 'the', 'cashmere', 'sale', 'a', 'seasonal', 'collection', 'of', 'timeless', 'cashmere', 'see', 'what', 'we', 'did', 'branding', 'ux', 'ui', 'design', 'consulting', 'marketing', 'laurea', 'surpassing', 'gold', 'standards', 'see', 'what', 'we', 'did', 'ux', 'ui', 'design', 'consulting', 'website', 'development', 'marketing', 'indikitch', 'fire', 'up', 'the', 'flavor', 'see', 'what', 'we', 'did', 'website', 'development', 'advertising', 'video', 'production', 'marketing', 'ashchromics', 'seeing', 'everything', 'in', 'a', 'new', 'light', 'see', 'what', 'we', 'did', 'website', 'development', 'consulting', 'ux', 'ui', 'design', 'creative', 'services', 'inmocean', 'getting', 'ahead', 'of', 'the', 'current', 'featured', 'clients', 'beauty', 'skincare', 'automotive', 'beauty', 'skincare', 'government', 'beauty', 'skincare', 'children', 's', 'toys', 'automotive', 'retail', 'view', 'all', 'work', 'let', 's', 'chat', 'over', 'a', 'brew', 'coffee', 'tea', 'or', 'something', 'stronger', 'name', 'email', 'phonecommentpagesourcecampaign', 'got', 'a', 'project', 'tell', 'us', 'everything', 'info', 'ruckusco', 'com', 'work', 'services', 'about', 'news', 'careers', 'contact', 'hq', 'west', 'th', 'street', 'floor', 'new', 'york', 'ny', 'terms', 'privacy', 'ruckus', 'marketing', 'llc'],['xxbos', 'tenet', 'partners', 'where', 'brand', 'meets', 'innovation', 'tenet', 'partners', 'menu', 'contentswhat', 'we', 'doour', 'workour', 'insightsnewsabout', 'uscontact', 'where', 'brand', 'meets', 'innovation', 'see', 'how', 'we', 'can', 'help', 'youtenet', 'partners', 'transforms', 'customer', 'experiences', 'and', 'drives', 'growth', 'by', 'fusing', 'innovation', 'and', 'brand', 'distinct', 'disciplines', 'integrally', 'linkedbranding', 'expresses', 'what', 'an', 'entire', 'organization', 'stands', 'for', 'across', 'all', 'aspects', 'of', 'its', 'business', 'innovation', 'delivers', 'new', 'signature', 'experiences', 'through', 'design', 'to', 'meet', 'consumer', 'needs', 'we', 'connect', 'branding', 'and', 'innovation', 'to', 'create', 'value', 'for', 'you', 'and', 'your', 'customers', 'our', 'work', 'case', 'studyapm', 'terminalsresearch', 'and', 'analytics', 'proved', 'their', 'branding', 'strategy', 'had', 'to', 'shift', 'to', 'achieve', 'their', 'aggressive', 'business', 'growth', 'strategy', 'case', 'studylginnovative', 'design', 'through', 'ideation', 'more', 'case', 'studiesinsights', 'fall', 'updatetenet', 'top', 'most', 'powerful', 'brands', 'events', 'of', 'have', 'upended', 'brands', 'across', 'industries', 'and', 'life', 'for', 'consumers', 'to', 'help', 'understand', 'the', 'impact', 'tenet', 'has', 'updated', 'the', 'rankings', 'to', 'reflect', 'changes', 'through', 'q', 'blogfive', 'ideas', 'to', 'help', 'brands', 'make', 'an', 'impactas', 'your', 'brand', 'weighs', 'short', 'and', 'long', 'term', 'strategies', 'here', 'are', 'five', 'critical', 'actions', 'that', 'can', 'guide', 'you', 'through', 'the', 'rest', 'of', 'this', 'year', 'and', 'beyond', 'more', 'insightsnewsnewstogether', 'we', 'standnewstenet', 'partners', 'launches', 'top', 'most', 'powerful', 'brandsnewstenet', 'partners', 'wins', 'top', 'honors', 'in', 'rebrand', 'global', 'awardsmore', 'newspartner', 'with', 'usif', 'you', 're', 'leading', 'brand', 'innovation', 'and', 'transformation', 'for', 'your', 'organization', 'let', 's', 'talk', 'tenet', 'is', 'headquartered', 'in', 'new', 'york', 'city', 'with', 'additional', 'offices', 'in', 'rochester', 'ny', 'and', 'norwalk', 'ct', 'img', 'class', 'picture', 'src', 'assets', 'images', 'contact', 'us', 'contactus', 'ny', 'dc', 'd', 'c', 'jpg', 'alt', 'ny', 'office', 'w', 'th', 'street', 'th', 'floornew', 'york', 'ny', 'get', 'directions', 'img', 'class', 'picture', 'src', 'assets', 'images', 'contact', 'us', 'contactus', 'rc', 'd', 'jpg', 'alt', 'ny', 'office', 'cambridge', 'streetrochester', 'ny', 'get', 'directions', 'img', 'class', 'picture', 'src', 'assets', 'images', 'contact', 'us', 'contact', 'sono', 'aed', 'af', 'jpg', 'alt', 'ct', 'office', 'marshall', 'street', 'st', 'floornorwalk', 'ct', 'get', 'directionsmain', 'number', 'new', 'business', 'and', 'media', 'relationsjessica', 'mchiejmchie', 'tenetpartners', 'com', 'more', 'about', 'uswhere', 'brand', 'meets', 'innovation', 'facebooklinkedintwittergoogle', 'contact', 'uslegalcopyright', 'tenet', 'partners', 'all', 'rights', 'reserved', 'brandlogic', 'and', 'corebrand', 'have', 'become', 'tenet', 'partners', 'where', 'brand', 'meets', 'innovation', 'more'],['xxbos', 'brandtuitive', 'top', 'branding', 'brand', 'marketing', 'agency', 'in', 'nyc', 'branding', 'brand', 'marketing', 'work', 'sharing', 'the', 'love', 'contact', 'branding', 'brand', 'marketing', 'work', 'sharing', 'the', 'love', 'contact', 'we', 'don', 't', 'create', 'brands', 'we', 'reveal', 'them', 'we', 'don', 't', 'make', 'anything', 'up', 'whether', 'you', 're', 'a', 'well', 'established', 'company', 'or', 'a', 'brand', 'new', 'start', 'up', 'the', 'truth', 'is', 'you', 're', 'bringing', 'something', 'great', 'to', 'the', 'world', 'let', 'us', 'reveal', 'your', 'greatness', 'and', 'build', 'your', 'business', 'through', 'a', 'perfect', 'storm', 'of', 'smart', 'strategy', 'and', 'beautiful', 'design', 'branding', 'brand', 'marketing', 'is', 'your', 'brand', 'the', 'star', 'of', 'your', 'customers', 'movie', 'in', 'the', 'mind', 'movie', 'in', 'the', 'mind', 'people', 'think', 'in', 'pictures', 'and', 'not', 'in', 'words', 'when', 'a', 'person', 'has', 'an', 'unmet', 'need', 'or', 'desire', 'they', 'actually', 'play', 'a', 'movie', 'inside', 'their', 'head', 'and', 'see', 'that', 'need', 'or', 'desire', 'being', 'fulfilled', 'in', 'a', 'certain', 'way', 'our', 'job', 'is', 'to', 'understand', 'your', 'customers', 'movie', 'in', 'the', 'mind', 'and', 'make', 'your', 'brand', 'the', 'star', 'of', 'the', 'movie', 'so', 'they', 'see', 'you', 'as', 'the', 'only', 'one', 'that', 'fulfills', 'their', 'needs', 'and', 'desires', 'speaking', 'to', 'the', 'movie', 'in', 'the', 'mind', 'is', 'the', 'catalyst', 'for', 'making', 'your', 'brand', 'irresistible', 'and', 'the', 'key', 'to', 'growing', 'your', 'business', 'servicesbrandingbrand', 'strategy', 'research', 'insights', 'brand', 'positioning', 'value', 'proposition', 'brand', 'architectureverbal', 'brand', 'identitynamingtaglinebrand', 'personality', 'voice', 'brand', 'messaging', 'platformvisual', 'brand', 'identitylogobrand', 'identity', 'designbrand', 'guidelines', 'brand', 'marketingcreative', 'campaignsbrand', 'launchnew', 'product', 'launchbrand', 'awarenessfundraising', 'capitaldigital', 'experienceswebsitesemail', 'campaignsbanner', 'adssocial', 'mediacommunicationsmarketing', 'strategy', 'planningprint', 'ooh', 'advertisingbrochures', 'collateralsales', 'presentationsdirect', 'mailtrade', 'shows', 'events', 'worksee', 'how', 'our', 'clients', 'became', 'the', 'stars', 'of', 'their', 'customers', 'movie', 'in', 'the', 'mind', 'branding', 'horizenrenaming', 'a', 'blockchain', 'platform', 'to', 'position', 'them', 'as', 'more', 'than', 'a', 'cryptocurrency', 'coin', 'brand', 'marketing', 'mrcetransforming', 'a', 'year', 'old', 'brand', 's', 'visual', 'identity', 'to', 'convey', 'their', 'sophisticated', 'work', 'see', 'more', 'work', 'back', 'to', 'top', 'who', 'we', 'areworkcareersblogcontact', 'madison', 'avenuesuite', 'new', 'york', 'ny', 'contact', 'brandtuitive', 'com', 'find', 'us', 'brandtuitive'],['xxbos', 'home', 'venthio', 'building', 'brands', 'businesses', 'bottom', 'lines', 'home', 'agency', 'work', 'crew', 'careers', 'connect', 'connect', 'venthio', 'com', 'videos', 'menu', 'venthio', 'building', 'brands', 'businesses', 'bottom', 'lines', 'work', 'contact', 'stand', 'outbrandsare', 'built', 'on', 'principles', 'clarifying', 'your', 'customer', 's', 'needs', 'perceptions', 'and', 'motivations', 'as', 'well', 'as', 'competitive', 'and', 'economic', 'realities', 'in', 'existing', 'and', 'or', 'new', 'markets', 'insight', 'applying', 'thinking', 'to', 'discover', 'and', 'develop', 'the', 'big', 'idea', 'or', 'core', 'purpose', 'that', 'drives', 'customer', 'acquisition', 'activation', 'and', 'brand', 'value', 'intelligence', 'bringing', 'a', 'clear', 'sensible', 'plan', 'to', 'create', 'or', 'develop', 'the', 'brand', 'platform', 'and', 'generate', 'engagement', 'enjoyment', 'and', 'return', 'on', 'investment', 'design', 'services', 'how', 'yourbig', 'ideascome', 'tolife', 'internal', 'external', 'discoverybrand', 'strategy', 'design', 'standardsweb', 'video', 'collateral', 'packagingstrategic', 'business', 'directionlead', 'generation', 'online', 'offlineclient', 'activation', 'loyalty', 'communiqueorganizational', 'developmentnew', 'venture', 'building', 'funding', 'let', 's', 'start', 'a', 'conversation', 'brands', 'developed', 'projects', 'created', 'client', 'revenue', 'generated', 'b', 'take', 'a', 'look', 'at', 'some', 'of', 'our', 'work', 'past', 'and', 'present', 'client', 'experience', 'high', 'tech', 'ibm', 'enerliance', 'sony', 'electronics', 'freedom', 'national', 'nextworld', 'triconex', 'intl', 'valevo', 'humble', 'eagle', 'work', 'logix', 'ricoh', 'copiers', 'captiveeight', 'healthcare', 'hoag', 'xinetix', 'choicecare', 'paragon', 'biomed', 'kerr', 'dental', 'obria', 'awakenings', 'paradigm', 'health', 'zelegent', 'epi', 'ep', 'omnipak', 'financial', 'legal', 'f', 'm', 'bank', 'lawyers', 'mutual', 'milestone', 'goodman', 'ins', 'sycr', 'law', 'firm', 'ameriestate', 'private', 'capital', 'accredited', 'washington', 'mutual', 'dunn', 'brad', 'street', 'baltimore', 'life', 'manufacturing', 'toyota', 'manf', 'us', 'borax', 'global', 'health', 'rsi', 'home', 'proactive', 'pkg', 'mckecknie', 'mfg', 'shelfmaster', 'intl', 'ndc', 'publishing', 'riccar', 'vacuum', 'pacific', 'cardio', 'ampersand', 'services', 'mlc', 'invensure', 'american', 'west', 'rsa', 'la', 'conservant', 'smartwatt', 'convene', 'us', 'data', 'source', 'henwood', 'group', 'insight', 'for', 'living', 'sunset', 'lighting', 'pro', 'bono', 'kidworks', 'city', 'of', 'hope', 'senior', 'living', 'relationship', 'fcs', 'oc', 'cross', 'roads', 'the', 'river', 'barnabas', 'group', 'crown', 'financial', 'groundworks', 'ron', 'simon', 'case', 'study', 'lawyers', 'mutual', 'after', 'decades', 'as', 'a', 'leading', 'provider', 'in', 'professional', 'liability', 'insurance', 'for', 'the', 'legal', 'industry', 'lawyers', 'mutual', 'had', 'made', 'significant', 'advances', 'in', 'product', 'offerings', 'service', 'technology', 'and', 'best', 'practices', 'warranting', 'a', 'new', 'brand', 'see', 'case', 'study', 'full', 'list', 'of', 'work', 'video', 'that', 'moves', 'you', 'adobe', 'cmo', 'video', 'simple', 'human', 'sensor', 'mirror', 'campaign', 'thermo', 'fisher', 'miniamps', 'at', 't', 'network', 'firewall', 'intuit', 'social', 'video', 'campaign', 'shimano', 'dura', 'ace', 'wheel', 'set', 'view', 'more', 'videos', 'build', 'the', 'brilliant', 'brand', 'of', 'you', 'exclusive', 'content', 'from', 'the', 'crew', 'dean', 'del', 'sesto', 'venthio', 's', 'chief', 'creative', 'officer', 'delivers', 'keynote', 'on', 'strengthening', 'your', 'personal', 'brand', 'at', 'work', 'meet', 'the', 'rest', 'of', 'the', 'crew', 'back', 'to', 'the', 'top', 'home', 'agency', 'work', 'crew', 'careers', 'connect', 'connect', 'venthio', 'com', 'venthio', 'all', 'rights', 'reserved'],['xxbos', 'home', 'wantbranding', 'skip', 'to', 'main', 'content', 'let', 's', 'talk', 'work', 'about', 'news', 'let', 's', 'talk', 'clutch', 'top', 'ranked', 'brand', 'agency', 'in', 'the', 'usclutch', 'top', 'ranked', 'brand', 'agency', 'in', 'the', 'uswe', 'create', 'brands', 'that', 'demand', 'attention', 'deliver', 'performance', 'and', 'help', 'you', 'win', 'want', 'is', 'one', 'of', 'america', 's', 'leading', 'branding', 'agencies', 'we', 'deliver', 'world', 'class', 'brand', 'strategy', 'brand', 'naming', 'and', 'brand', 'identity', 'solutions', 'for', 'companies', 'who', 'want', 'to', 'unlock', 'the', 'power', 'and', 'value', 'of', 'their', 'brands', 'for', 'years', 'we', 've', 'helped', 'more', 'than', 'companies', 'create', 'powerful', 'and', 'memorable', 'brands', 'that', 'delight', 'customers', 'outflank', 'the', 'competition', 'and', 'achieve', 'extraordinary', 'business', 'results', 'some', 'brands', 'want', 'to', 'step', 'forward', 'others', 'want', 'to', 'leap', 'ahead', 'whatever', 'your', 'goals', 'we', 'can', 'help', 'our', 'work', 'american', 'petroleum', 'institute', 'alphia', 'metallic', 'architectural', 'digest', 'intel', 'mgm', 'resorts', 'international', 'sincro', 'intuitive', 'citycenter', 'dcview', 'all', 'work', 'east', 'new', 'york', 'ny', 'j', 'bell', 'wantbranding', 'com', 'south', 'miami', 'fl', 'info', 'wantbranding', 'com', 'west', 'denver', 'co', 'bruno', 'wantbranding', 'com', 'about', 'work', 'news', 'contact', 'twitterfacebookinstagramlinkedin', 'rating', 'on', 'clutch', 'copyright', 'want', 'branding', 'back', 'to', 'top'],['xxbos', 'a', 'brand', 'identity', 'house', 'igniting', 'passionate', 'brands', 'xxwrep', '3', 'matchstic', 'work', 'articles', 'about', 'contact', 'we', 'are', 'the', 'brand', 'identity', 'house', 'of', 'the', 'south', 'see', 'our', 'reel', 'we', 'help', 'challenger', 'brands', 'become', 'radically', 'relevant', 'want', 'to', 'take', 'your', 'brand', 'to', 'the', 'next', 'level', 'let', 's', 'talk', 'featured', 'the', 'next', 'great', 'story', 'is', 'here', 'trilith', 'rewriting', 'the', 'workspace', 'tabi', 'architecting', 'a', 'new', 'future', 'dwell', 'design', 'studio', 'venturing', 'beyond', 'capital', 'iconoclast', 'adding', 'a', 'new', 'chapter', 'to', 'a', 'solid', 'legacy', 'ameris', 'diving', 'deeper', 'in', 'a', 'shallow', 'time', 'for', 'news', 'tampa', 'bay', 'energizing', 'a', 'collective', 'cause', 'keeping', 'forests', 'building', 'brands', 'as', 'big', 'as', 'your', 'imagination', 'assembling', 'brands', 'with', 'a', 'sense', 'of', 'place', 'commercial', 'real', 'estate', 'making', 'a', 'meaningful', 'mark', 'on', 'atlanta', 'midtown', 'union', 'cultivating', 'charm', 'for', 'our', 'new', 'neighbors', 'greystar', 'creativity', 'that', 's', 'on', 'the', 'cutting', 'edge', 'developing', 'brands', 'for', 'a', 'dynamic', 'industry', 'tech', 'companies', 'taking', 'the', 'city', 'from', 'complex', 'to', 'clear', 'atlanta', 'city', 'public', 'notice', 'signs', 'refreshing', 'a', 'cherished', 'atlanta', 'nonprofit', 'atlanta', 'humane', 'society', 'cooking', 'up', 'a', 'tech', 'brand', 'from', 'scratch', 'humrun', 'it', 's', 'all', 'in', 'your', 'name', 'setting', 'a', 'brand', 'up', 'for', 'a', 'great', 'story', 'naming', 'covering', 'a', 'carpet', 'brand', 'with', 'confidence', 'royal', 'thai', 'see', 'more', 'case', 'studies', 'memorial', 'dr', 'se', 'unit', 'a', 'atlanta', 'ga', 'join', 'our', 'newsletter', 'instagram', 'twitter', 'jobs'],['xxbos', 'spire', 'agency', 'branding', 'marketing', 'creative', 'dallas', 'tx', 'home', 'work', 'services', 'growth', 'planningbrand', 'foundationsales', 'enablementbrand', 'awarenessabout', 'us', 'careers', 'blog', 'contact', 'b', 'b', 'i', 'want', 'to', 'choose', 'a', 'option', 'launch', 'a', 'new', 'product', 'or', 'service', 'grow', 'our', 'business', 'improve', 'our', 'brand', 'look', 'and', 'feel', 'refresh', 'rebrand', 'our', 'company', 'get', 'more', 'business', 'leads', 'increase', 'our', 'brand', 'presence', 'learn', 'more', 'our', 'clients', 'we', 've', 'assembled', 'a', 'team', 'of', 'b', 'b', 'branding', 'black', 'belts', 'to', 'kick', 'your', 'brand', 'into', 'high', 'gear', 'the', 'creative', 'work', 'i', 'get', 'from', 'spire', 'is', 'pretty', 'amazing', 'if', 'i', 'want', 'good', 'strategic', 'thinking', 'i', 'approach', 'spire', 'before', 'using', 'even', 'my', 'own', 'resources', 'kendall', 'ramirez', 'chief', 'experience', 'officer', 'for', 'naturally', 'slimi', 'appreciate', 'the', 'thorough', 'research', 'that', 'they', 've', 'done', 'to', 'provide', 'very', 'unique', 'marketing', 'items', 'that', 'make', 'us', 'stand', 'out', 'in', 'a', 'way', 'we', 've', 'never', 'been', 'able', 'to', 'before', 'josh', 'myers', 'head', 'of', 'marketing', 'north', 'america', 'for', 'airbus', 'helicoptersi', 'felt', 'like', 'i', 'was', 'their', 'only', 'client', 'even', 'though', 'i', 'knew', 'i', 'wasn', 't', 'their', 'customer', 'engagement', 'was', 'excellent', 'they', 'listen', 'well', 'learn', 'to', 'grasp', 'the', 'unique', 'needs', 'of', 'your', 'company', 'and', 'translate', 'that', 'into', 'a', 'specific', 'outcome', 'stephen', 'prince', 'former', 'ceo', 'younicositem', 'xxwrep', '3', 'item', 'of', 'our', 'services', 'growth', 'planning', 'we', 'craft', 'data', 'driven', 'strategy', 'and', 'product', 'launch', 'plans', 'to', 'help', 'companies', 'best', 'understand', 'and', 'reach', 'their', 'customers', 'learn', 'more', 'brand', 'foundation', 'just', 'having', 'a', 'unique', 'selling', 'proposition', 'isn', 't', 'enough', 'the', 'only', 'way', 'to', 'stand', 'out', 'is', 'to', 'show', 'your', 'customer', 'what', 'you', 'stand', 'for', 'learn', 'more', 'sales', 'enablement', 'we', 'work', 'with', 'our', 'b', 'b', 'clients', 'to', 'build', 'out', 'the', 'sales', 'tools', 'they', 'need', 'to', 'quickly', 'and', 'effectively', 'move', 'their', 'prospects', 'all', 'the', 'way', 'through', 'the', 'funnel', 'learn', 'more', 'brand', 'awareness', 'unless', 'you', 'have', 'an', 'unlimited', 'budget', 'which', 'you', 'don', 't', 'you', 're', 'going', 'to', 'need', 'to', 'get', 'creative', 'if', 'you', 'want', 'to', 'get', 'noticed', 'which', 'you', 'do', 'learn', 'more', 'how', 'far', 'along', 'a', 'buyer', 'travels', 'on', 'the', 'buyer', 'journey', 'before', 'inquiring', 'potential', 'suppliers', 'average', 'number', 'of', 'stakeholders', 'involved', 'in', 'the', 'b', 'b', 'purchase', 'how', 'often', 'a', 'buyer', 'feels', 'overwhelmed', 'with', 'the', 'b', 'b', 'buying', 'process', 'b', 'b', 'buyers', 'that', 'see', 'a', 'real', 'difference', 'between', 'suppliers', 'and', 'are', 'willing', 'to', 'pay', 'for', 'it', 'think', 'elevate', 'spire', 'employees', 'who', 'once', 'played', 'the', 'trombone', 'the', 'percentage', 'of', 'spire', 'employees', 'who', 'work', 'better', 'when', 'fleetwood', 'mac', 'is', 'on', 'workdays', 'involving', 'some', 'sort', 'of', 'belly', 'laugh', 'spire', 'employees', 'fueled', 'by', 'coffee', 'contact', 'us', 'work', 'services', 'about', 'us', 'blog', 'contact', 'careers', 'contact', 'info', 'preston', 'road', 'suite', 'dallas', 'tx', 'p', 'newsletter', 'sign', 'up', 'for', 'our', 'newsletter', 'below', 'email', 'address', 'spire', 'agency', 'all', 'rights', 'reserved', 'contact', 'us', 'name', 'email', 'referral', 'message', 'newsletter', 'sign', 'up', 'for', 'our', 'newsletter', 'submit'],['xxbos', 'anchour', 'branding', 'agency', 'web', 'design', 'digital', 'marketing', 'maine', 'anchour', 'menu', 'about', 'us', 'our', 'work', 'contact', 'us', 'we', 'build', 'impactful', 'brands', 'watch', 'the', 'video', 'continue', 'video', 'see', 'our', 'work', 'anchour', 'is', 'a', 'branding', 'agency', 'based', 'in', 'maine', 'we', 'believe', 'that', 'truly', 'impactful', 'brands', 'inspire', 'their', 'audiences', 'to', 'action', 'to', 'dream', 'to', 'change', 'they', 'leave', 'an', 'impression', 'on', 'their', 'audiences', 'and', 'wield', 'genuine', 'influence', 'creating', 'work', 'like', 'this', 'is', 'our', 'passion', 'it', 's', 'what', 'brought', 'us', 'together', 'and', 'it', 's', 'what', 'keeps', 'us', 'moving', 'forward', 'heatable', 'we', 'worked', 'with', 'heatable', 'to', 'develop', 'a', 'strategy', 'messaging', 'brand', 'identity', 'and', 'website', 'design', 'that', 'matched', 'their', 'modern', 'and', 'personable', 'approach', 'view', 'project', 'newton', 'baby', 'an', 'innovative', 'baby', 'brand', 'with', 'revolution', 'airy', 'products', 'gets', 'a', 'logo', 'and', 'design', 'refresh', 'view', 'project', 'davinci', 's', 'eatery', 'an', 'elegant', 'fresh', 'brand', 'redesign', 'for', 'a', 'beloved', 'local', 'restaurant', 'view', 'project', 'logofolio', 'a', 'compilation', 'of', 'some', 'of', 'our', 'favorite', 'logo', 'design', 'projects', 'view', 'project', 'portfolio', 'more', 'projects', 'we', 've', 'worked', 'on', 'from', 'digital', 'marketing', 'to', 'web', 'design', 'view', 'more', 'our', 'clients', 'we', 've', 'worked', 'with', 'some', 'pretty', 'great', 'clients', 'for', 'whom', 'we', 've', 'done', 'everything', 'from', 'branding', 'to', 'full', 'scale', 'digital', 'marketing', 'campaigns', 'ready', 'to', 'start', 'a', 'project', 'we', 'd', 'love', 'to', 'hear', 'more', 'tell', 'us', 'a', 'bit', 'about', 'yourself', 'and', 'we', 'll', 'be', 'in', 'touch', 'with', 'you', 'shortly', 'your', 'name', 'email', 'address', 'website', 'phone', 'number', 'business', 'message', 'get', 'in', 'touch', 'get', 'in', 'touch', 'anchour', 'lisbon', 'street', 'lewiston', 'maine', 'email', 'protected', 'anchour', 'all', 'rights', 'reserved'],['xxbos', 'niftic', 'agency', 'creative', 'digital', 'agency', 'in', 'washington', 'dc', 'la', 'and', 'slc', 'we', 'are', 'hiring', 'see', 'open', 'positions', 'services', 'work', 'about', 'contact', 'us', 'home', 'services', 'work', 'about', 'contact', 'niftic', 'is', 'a', 'creative', 'agency', 'that', 'helps', 'mission', 'focused', 'companies', 'turn', 'customers', 'into', 'fans', 'we', 'combine', 'strategic', 'design', 'data', 'and', 'engineering', 'to', 'increase', 'your', 'conversions', 'and', 'build', 'brand', 'love', 'at', 'every', 'user', 'interaction', 'discover', 'what', 'we', 'do', 'creating', 'memorable', 'delightful', 'digital', 'experiences', 'through', 'strategy', 'design', 'technology', 'and', 'optimization', 'see', 'all', 'work', 'change', 'org', 'growth', 'strategies', 'that', 'help', 'amplify', 'local', 'voices', 'and', 'create', 'lasting', 'community', 'change', 'ocean', 'cdr', 'designing', 'and', 'developing', 'a', 'premier', 'knowledge', 'hub', 'for', 'experts', 'to', 'solve', 'the', 'global', 'climate', 'crisis', 'the', 'north', 'face', 'a', 'virtual', 'stage', 'to', 'connect', 'young', 'aspiring', 'athletes', 'around', 'the', 'world', 'to', 'combat', 'the', 'repercussions', 'of', 'a', 'changing', 'climate', 'kx', 'advisors', 'a', 'new', 'brand', 'to', 'help', 'establish', 'a', 'leading', 'healthcare', 'consulting', 'firm', 'read', 'more', 'a', 'few', 'nice', 'things', 'our', 'friends', 'have', 'said', 'about', 'us', 'national', 'geographic', 'their', 'creativity', 'and', 'attention', 'to', 'detail', 'set', 'them', 'apart', 'from', 'vendors', 'we', 've', 'worked', 'with', 'in', 'the', 'past', 'change', 'org', 'niftic', 'agency', 's', 'support', 'has', 'driven', 'huge', 'results', 'in', 'the', 'last', 'six', 'months', 'some', 'of', 'our', 'biggest', 'wins', 'on', 'user', 'engagement', 'have', 'come', 'from', 'projects', 'that', 'niftic', 'agency', 'has', 'worked', 'on', 'brac', 'usa', 'niftic', 's', 'services', 'will', 'enable', 'my', 'team', 'to', 'meet', 'global', 'targets', 'for', 'extreme', 'poverty', 'reduction', 'and', 'create', 'real', 'lasting', 'impacts', 'on', 'the', 'lives', 'of', 'ultra', 'poor', 'families', 'we', 'would', 'love', 'to', 'hear', 'more', 'about', 'your', 'ideas', 'click', 'to', 'chat', 'let', 's', 'turn', 'your', 'customers', 'into', 'fans', 'contact', 'us', 'washington', 'dc', 'business', 'inquiries', 'directions', 'salt', 'lake', 'city', 'business', 'inquiries', 'directions', 'los', 'angeles', 'business', 'inquiries', 'directions', 'connect', 'careers', 'instagram', 'facebook', 'linkedin', 'copyright', 'niftic', 'company', 'subscribe', 'to', 'our', 'newsletter', 'receive', 'one', 'monthly', 'email', 'with', 'exclusive', 'content', 'agency', 'news', 'and', 'inspiring', 'articles', 'about', 'design', 'branding', 'digital', 'marketing'],['xxbos', 'finien', 'clarity', 'for', 'brand', 'transformations', 'finien', 'about', 'about', 'us', 'about', 'fabian', 'expertise', 'books', 'the', 'brand', 'therapy', 'book', 'bigger', 'than', 'this', 'how', 'to', 'launch', 'a', 'brand', 'insights', 'blog', 'podcast', 'white', 'papers', 'contact', 'clarity', 'for', 'brand', 'transformations', 'your', 'company', 'is', 'planning', 'to', 'go', 'through', 'a', 'big', 'transformation', 'now', 'it', 's', 'time', 'to', 'switch', 'focus', 'to', 'your', 'brand', 'a', 'new', 'brand', 'strategy', 'will', 'need', 'to', 'be', 'developed', 'the', 'perfect', 'brand', 'name', 'crafted', 'and', 'a', 'new', 'brand', 'identity', 'rolled', 'out', 'there', 'are', 'many', 'stakeholders', 'and', 'a', 'lot', 'is', 'at', 'stake', 'yet', 'it', 'must', 'happen', 'quickly', 'we', 'are', 'ready', 'to', 'enable', 'your', 'relaunch', 'schedule', 'a', 'call', 'meet', 'fabian', 'geyrhalter', 'fabian', 'is', 'the', 'founder', 'and', 'principal', 'of', 'finien', 'he', 'ran', 'a', 'successful', 'branding', 'and', 'design', 'agency', 'for', 'twelve', 'years', 'then', 'he', 'realized', 'that', 'the', 'traditional', 'agency', 'model', 'no', 'longer', 'benefited', 'today', 's', 'businesses', 'he', 'closed', 'shop', 'wrote', 'his', 'first', 'best', 'selling', 'book', 'how', 'to', 'launch', 'a', 'brand', 'and', 'in', 'relaunched', 'as', 'finien', 'a', 'purposefully', 'small', 'consultancy', 'that', 'shapes', 'brands', 'in', 'a', 'swift', 'and', 'focused', 'manner', 'we', 'work', 'in', 'an', 'approachable', 'way', 'with', 'founders', 'and', 'cmos', 'to', 'establish', 'brand', 'clarity', 'and', 'focus', 'fabian', 'will', 'be', 'your', 'direct', 'contact', 'and', 'trusted', 'guide', 'throughout', 'this', 'collaboration', 'their', 'workflow', 'was', 'flawless', 'finien', 'provided', 'insightful', 'work', 'in', 'record', 'time', 'uwe', 'hook', 'cmo', 'worldremit', 'london', 'uk', 'we', 'are', 'ready', 'to', 'enable', 'your', 'relaunch', 'contact', 'us', 'free', 'white', 'papers', 'ingredients', 'of', 'a', 'strong', 'brand', 'foundation', 'brand', 'architecture', 'strategies', 'for', 'sustainable', 'brand', 'development', 'how', 'to', 'name', 'your', 'new', 'brand', 'successfully', 'how', 'to', 'match', 'your', 'new', 'brand', 'name', 'with', 'an', 'appropriate', 'domain', 'name', 'how', 'to', 'gain', 'swift', 'stakeholder', 'buy', 'in', 'during', 'the', 'early', 'stages', 'of', 'your', 'brand', 'creation', 'hitting', 'the', 'mark', 'conversations', 'with', 'founders', 'and', 'investors', 'about', 'the', 'intersection', 'of', 'brand', 'clarity', 'and', 'startup', 'success', 'fabian', 'sits', 'down', 'with', 'some', 'of', 'today', 's', 'most', 'inspiring', 'founders', 'to', 'discuss', 'how', 'they', 'have', 'defined', 'their', 'brand', 's', 'dna', 'past', 'guests', 'include', 'trevor', 'milton', 'of', 'nikola', 'phil', 'libin', 'of', 'evernote', 'mikael', 'soderlindh', 'of', 'happy', 'socks', 'and', 'stacy', 'of', 'stacy', 's', 'pita', 'chips', 'listen', 'here', 'bigger', 'than', 'this', 'a', 'quick', 'read', 'about', 'the', 'deceptively', 'difficult', 'task', 'of', 'turning', 'your', 'venture', 'into', 'an', 'admired', 'brand', 'don', 't', 'just', 'read', 'this', 'book', 'put', 'it', 'to', 'work', 'inside', 'your', 'company', 'and', 'in', 'your', 'career', 'william', 'c', 'taylor', 'co', 'founder', 'fast', 'company', 'read', 'more', 'how', 'to', 'launch', 'a', 'brand', 'your', 'comprehensive', 'guide', 'to', 'launching', 'a', 'brand', 'from', 'positioning', 'to', 'naming', 'and', 'brand', 'identity', 'innovators', 'everywhere', 'will', 'want', 'to', 'read', 'this', 'slim', 'on', 'size', 'but', 'hefty', 'on', 'advice', 'book', 'portland', 'book', 'review', 'read', 'more', 'see', 'more', 'insights', 'contact', 'us', 'stay', 'updated', 'enter', 'your', 'email', 'address', 'to', 'receive', 'future', 'finien', 'insights', 'and', 'updates', 'yes', 'i', 'd', 'like', 'to', 'receive', 'emails', 'from', 'finien', 'submit', 'we', 'will', 'use', 'the', 'information', 'you', 'provide', 'on', 'this', 'form', 'to', 'send', 'you', 'insights', 'and', 'at', 'times', 'marketing', 'emails', 'about', 'our', 'services', 'you', 'can', 'unsubscribe', 'at', 'any', 'time', 'through', 'a', 'link', 'in', 'the', 'footer', 'of', 'any', 'email', 'from', 'us', 'for', 'more', 'information', 'please', 'read', 'our', 'privacy', 'policy', 'located', 'at', 'the', 'bottom', 'of', 'this', 'page', 'location', 'pine', 'ave', 'suite', 'long', 'beach', 'ca', 'view', 'map', 'follow', 'finien', 'finieninsights', 'rt', 'joebiden', 'pennsylvania', 'there', 'are', 'just', 'a', 'few', 'hours', 'left', 'to', 'register', 'to', 'vote', 'online', 'don', 't', 'miss', 'your', 'chance', 'to', 'make', 'your', 'voice', 'heard', 'in', 'days', 'ago', 'finieninsights', 'if', 'you', 'missed', 'episode', 'last', 'weekend', 'i', 'talked', 'with', 'anna', 'sheffield', 'of', 'bing', 'bang', 'and', 'her', 'eponymous', 'fine', 'jewelry', 'bra', 'https', 't', 'co', 'utaxlym', 'ge', 'days', 'ago', 'view', 'open', 'a', 'big', 'thank', 'you', 'to', 'all', 'of', 'you', 'we', 'are', 'humble', 'copyright', 'finien', 'all', 'rights', 'reserved', 'finien', 'resonaid', 'brand', 'atmosphere', 'and', 'hitting', 'the', 'mark', 'are', 'registered', 'trademarks', 'of', 'geyrhalter', 'design', 'inc', 'dba', 'finien', 'terms', 'of', 'use', 'privacy', 'policy']...]"
            ]
          },
          "metadata": {
            "tags": []
          },
          "execution_count": 24
        }
      ]
    },
    {
      "cell_type": "code",
      "metadata": {
        "id": "L5l7GERenUjO"
      },
      "source": [
        "txts = L(el for el in df['text_from_html'])"
      ],
      "execution_count": 17,
      "outputs": []
    },
    {
      "cell_type": "code",
      "metadata": {
        "id": "_01_xHP0kcuH",
        "outputId": "a744f0eb-7fc4-40ec-fde9-071d0a0bd1f3",
        "colab": {
          "base_uri": "https://localhost:8080/",
          "height": 34
        }
      },
      "source": [
        "toks_z = txts.map(tkn)\n",
        "toks_z[1]"
      ],
      "execution_count": 21,
      "outputs": [
        {
          "output_type": "execute_result",
          "data": {
            "text/plain": [
              "(#327) ['xxbos','tenet','partners','where','brand','meets','innovation','tenet','partners','menu'...]"
            ]
          },
          "metadata": {
            "tags": []
          },
          "execution_count": 21
        }
      ]
    },
    {
      "cell_type": "code",
      "metadata": {
        "id": "LAFyCVqjkc34",
        "outputId": "dadf0811-7838-402f-b96c-1e01e8eafedf",
        "colab": {
          "base_uri": "https://localhost:8080/",
          "height": 35
        }
      },
      "source": [
        "num = Numericalize()\n",
        "num.setup(toks_z)\n",
        "coll_repr(num.vocab)"
      ],
      "execution_count": 31,
      "outputs": [
        {
          "output_type": "execute_result",
          "data": {
            "application/vnd.google.colaboratory.intrinsic+json": {
              "type": "string"
            },
            "text/plain": [
              "\"(#14008) ['xxunk','xxpad','xxbos','xxeos','xxfld','xxrep','xxwrep','xxup','xxmaj','and'...]\""
            ]
          },
          "metadata": {
            "tags": []
          },
          "execution_count": 31
        }
      ]
    },
    {
      "cell_type": "code",
      "metadata": {
        "id": "7KeEjoDRkpbh",
        "outputId": "1dce3d58-02cd-4786-b135-6726826dca2f",
        "colab": {
          "base_uri": "https://localhost:8080/",
          "height": 34
        }
      },
      "source": [
        "len(num.vocab)"
      ],
      "execution_count": 32,
      "outputs": [
        {
          "output_type": "execute_result",
          "data": {
            "text/plain": [
              "14008"
            ]
          },
          "metadata": {
            "tags": []
          },
          "execution_count": 32
        }
      ]
    },
    {
      "cell_type": "markdown",
      "metadata": {
        "id": "llMaNdvXqCsO"
      },
      "source": [
        "1.1.5  Putting Our Texts into Batches for a Language Model\n"
      ]
    },
    {
      "cell_type": "code",
      "metadata": {
        "id": "rC8iwVXgkc8J"
      },
      "source": [
        "nums_z = toks_z.map(num)"
      ],
      "execution_count": 35,
      "outputs": []
    },
    {
      "cell_type": "code",
      "metadata": {
        "id": "G0F33Z4bqdm9"
      },
      "source": [
        "dl = LMDataLoader(nums_z)"
      ],
      "execution_count": 36,
      "outputs": []
    },
    {
      "cell_type": "code",
      "metadata": {
        "id": "zweR-bo3qdqV",
        "outputId": "2677c738-c385-4dce-8360-3c39b3f34283",
        "colab": {
          "base_uri": "https://localhost:8080/",
          "height": 34
        }
      },
      "source": [
        "x,y = first(dl)\n",
        "x.shape,y.shape"
      ],
      "execution_count": 37,
      "outputs": [
        {
          "output_type": "execute_result",
          "data": {
            "text/plain": [
              "(torch.Size([64, 72]), torch.Size([64, 72]))"
            ]
          },
          "metadata": {
            "tags": []
          },
          "execution_count": 37
        }
      ]
    },
    {
      "cell_type": "code",
      "metadata": {
        "id": "m91aMDxpqdwh",
        "outputId": "054ea556-aa07-4006-acb8-b8f82afc3780",
        "colab": {
          "base_uri": "https://localhost:8080/",
          "height": 52
        }
      },
      "source": [
        "' '.join(num.vocab[o] for o in x[0][:20])"
      ],
      "execution_count": null,
      "outputs": [
        {
          "output_type": "execute_result",
          "data": {
            "application/vnd.google.colaboratory.intrinsic+json": {
              "type": "string"
            },
            "text/plain": [
              "'xxbos ruckus top ny advertising digital agency work services about news careers contact got a project tell us everything info'"
            ]
          },
          "metadata": {
            "tags": []
          },
          "execution_count": 20
        }
      ]
    },
    {
      "cell_type": "code",
      "metadata": {
        "id": "VMn3EHwXkcx9",
        "outputId": "390ae0e2-a62e-47bd-dcd4-1ca5ae8a7055",
        "colab": {
          "base_uri": "https://localhost:8080/",
          "height": 52
        }
      },
      "source": [
        "' '.join(num.vocab[o] for o in y[0][:20])"
      ],
      "execution_count": null,
      "outputs": [
        {
          "output_type": "execute_result",
          "data": {
            "application/vnd.google.colaboratory.intrinsic+json": {
              "type": "string"
            },
            "text/plain": [
              "'ruckus top ny advertising digital agency work services about news careers contact got a project tell us everything info xxunk'"
            ]
          },
          "metadata": {
            "tags": []
          },
          "execution_count": 21
        }
      ]
    },
    {
      "cell_type": "code",
      "metadata": {
        "id": "7QKH_7Cdqs9r"
      },
      "source": [
        "import fastai"
      ],
      "execution_count": null,
      "outputs": []
    },
    {
      "cell_type": "markdown",
      "metadata": {
        "id": "6hKPluonq1nP"
      },
      "source": [
        "Training a Text Classifier"
      ]
    },
    {
      "cell_type": "code",
      "metadata": {
        "id": "0t76tGhTd-zP"
      },
      "source": [
        "!pip install nbdev"
      ],
      "execution_count": null,
      "outputs": []
    },
    {
      "cell_type": "code",
      "metadata": {
        "id": "4-W8VlsDrhmx"
      },
      "source": [
        "path = os.path.join(data_folder,'agency_htmls')"
      ],
      "execution_count": 38,
      "outputs": []
    },
    {
      "cell_type": "code",
      "metadata": {
        "id": "W_ZZwRlIqtOs"
      },
      "source": [
        "get_htmls = partial(get_text_files, folders=['yes','no'])\n",
        "\n",
        "dls_lm = DataBlock(\n",
        "    blocks=TextBlock.from_folder(path, is_lm=True),\n",
        "    get_items=get_htmls, splitter=RandomSplitter(0.2)\n",
        ").dataloaders(path, path=path, bs=128, seq_len=80)"
      ],
      "execution_count": 39,
      "outputs": []
    },
    {
      "cell_type": "code",
      "metadata": {
        "id": "Y8xxjB4aqtTb",
        "outputId": "31b56417-b3ba-4143-a045-b6b9843972e3",
        "colab": {
          "base_uri": "https://localhost:8080/",
          "height": 281
        }
      },
      "source": [
        "dls_lm.show_batch(max_n=2)"
      ],
      "execution_count": 40,
      "outputs": [
        {
          "output_type": "display_data",
          "data": {
            "text/html": [
              "<table border=\"1\" class=\"dataframe\">\n",
              "  <thead>\n",
              "    <tr style=\"text-align: right;\">\n",
              "      <th></th>\n",
              "      <th>text</th>\n",
              "      <th>text_</th>\n",
              "    </tr>\n",
              "  </thead>\n",
              "  <tbody>\n",
              "    <tr>\n",
              "      <th>0</th>\n",
              "      <td>xxbos welcome to the city of dallas texas skip navigation public alerts welcome to xxunk to service first excellence important information regarding coronavirus covid our core values are empathy ethics excellence equity pay find request dallas data hub financial transparency open records request official xxunk fy proposed budget council agendas council briefings committee briefings open meetings council memos city calendar watch city meetings online quick links jobs water utilities building permits inspections traffic civil tickets court warrants bonds trash pickup</td>\n",
              "      <td>welcome to the city of dallas texas skip navigation public alerts welcome to xxunk to service first excellence important information regarding coronavirus covid our core values are empathy ethics excellence equity pay find request dallas data hub financial transparency open records request official xxunk fy proposed budget council agendas council briefings committee briefings open meetings council memos city calendar watch city meetings online quick links jobs water utilities building permits inspections traffic civil tickets court warrants bonds trash pickup transportation</td>\n",
              "    </tr>\n",
              "    <tr>\n",
              "      <th>1</th>\n",
              "      <td>s o paulo br xxbos home ada skip to main content ada search main navigation covid diabetes overview understanding a c type overview symptoms genetics complications treatment care type self care manual type overview symptoms genetics complications treatment care living with type know diabetes by heart xxunk diabetes overview will this impact my baby are you experiencing depression treatment perspective newly diagnosed find a diabetes education program loved ones mental health overview eating disorders medication management overview insulin other xxunk</td>\n",
              "      <td>o paulo br xxbos home ada skip to main content ada search main navigation covid diabetes overview understanding a c type overview symptoms genetics complications treatment care type self care manual type overview symptoms genetics complications treatment care living with type know diabetes by heart xxunk diabetes overview will this impact my baby are you experiencing depression treatment perspective newly diagnosed find a diabetes education program loved ones mental health overview eating disorders medication management overview insulin other xxunk understanding</td>\n",
              "    </tr>\n",
              "  </tbody>\n",
              "</table>"
            ],
            "text/plain": [
              "<IPython.core.display.HTML object>"
            ]
          },
          "metadata": {
            "tags": []
          }
        }
      ]
    },
    {
      "cell_type": "markdown",
      "metadata": {
        "id": "hrE3KJ8ew-cL"
      },
      "source": [
        "1.2.2  Fine-Tuning the Language Model"
      ]
    },
    {
      "cell_type": "code",
      "metadata": {
        "id": "Q87QnEWlqtGe",
        "outputId": "ac326bd3-66ed-4934-adf3-47dc1e394a3d",
        "colab": {
          "base_uri": "https://localhost:8080/",
          "height": 17
        }
      },
      "source": [
        "learn = language_model_learner(\n",
        "    dls_lm, AWD_LSTM, drop_mult=0.3, \n",
        "    metrics=[accuracy, error_rate, Perplexity()]).to_fp16()"
      ],
      "execution_count": 41,
      "outputs": [
        {
          "output_type": "display_data",
          "data": {
            "text/html": [
              ""
            ],
            "text/plain": [
              "<IPython.core.display.HTML object>"
            ]
          },
          "metadata": {
            "tags": []
          }
        }
      ]
    },
    {
      "cell_type": "code",
      "metadata": {
        "id": "tie8sa2QqtD2",
        "outputId": "1d36bae3-d498-4785-bb72-f778cf008346",
        "colab": {
          "base_uri": "https://localhost:8080/",
          "height": 80
        }
      },
      "source": [
        "learn.fit_one_cycle(1, 2e-2)"
      ],
      "execution_count": 42,
      "outputs": [
        {
          "output_type": "display_data",
          "data": {
            "text/html": [
              "<table border=\"1\" class=\"dataframe\">\n",
              "  <thead>\n",
              "    <tr style=\"text-align: left;\">\n",
              "      <th>epoch</th>\n",
              "      <th>train_loss</th>\n",
              "      <th>valid_loss</th>\n",
              "      <th>accuracy</th>\n",
              "      <th>error_rate</th>\n",
              "      <th>perplexity</th>\n",
              "      <th>time</th>\n",
              "    </tr>\n",
              "  </thead>\n",
              "  <tbody>\n",
              "    <tr>\n",
              "      <td>0</td>\n",
              "      <td>5.942433</td>\n",
              "      <td>5.557121</td>\n",
              "      <td>0.171628</td>\n",
              "      <td>0.828372</td>\n",
              "      <td>259.075958</td>\n",
              "      <td>03:13</td>\n",
              "    </tr>\n",
              "  </tbody>\n",
              "</table>"
            ],
            "text/plain": [
              "<IPython.core.display.HTML object>"
            ]
          },
          "metadata": {
            "tags": []
          }
        }
      ]
    },
    {
      "cell_type": "code",
      "metadata": {
        "id": "lO0UhbriqtBX",
        "outputId": "9d1fd95e-c41b-4127-de2d-783d83581d44",
        "colab": {
          "base_uri": "https://localhost:8080/",
          "height": 34
        }
      },
      "source": [
        "learn.save('1epoch')"
      ],
      "execution_count": 43,
      "outputs": [
        {
          "output_type": "execute_result",
          "data": {
            "text/plain": [
              "Path('/content/drive/My Drive/Colab Notebooks/agency_htmls/models/1epoch.pth')"
            ]
          },
          "metadata": {
            "tags": []
          },
          "execution_count": 43
        }
      ]
    },
    {
      "cell_type": "code",
      "metadata": {
        "id": "XpDA15BvxqwU",
        "outputId": "2b3c3b5d-3659-4354-cf39-951ae219f74f",
        "colab": {
          "base_uri": "https://localhost:8080/",
          "height": 572
        }
      },
      "source": [
        "learn.unfreeze()\n",
        "learn.fit_one_cycle(10, 2e-3)"
      ],
      "execution_count": 44,
      "outputs": [
        {
          "output_type": "display_data",
          "data": {
            "text/html": [
              "<table border=\"1\" class=\"dataframe\">\n",
              "  <thead>\n",
              "    <tr style=\"text-align: left;\">\n",
              "      <th>epoch</th>\n",
              "      <th>train_loss</th>\n",
              "      <th>valid_loss</th>\n",
              "      <th>accuracy</th>\n",
              "      <th>error_rate</th>\n",
              "      <th>perplexity</th>\n",
              "      <th>time</th>\n",
              "    </tr>\n",
              "  </thead>\n",
              "  <tbody>\n",
              "    <tr>\n",
              "      <td>0</td>\n",
              "      <td>5.165124</td>\n",
              "      <td>5.422184</td>\n",
              "      <td>0.182125</td>\n",
              "      <td>0.817875</td>\n",
              "      <td>226.372879</td>\n",
              "      <td>00:25</td>\n",
              "    </tr>\n",
              "    <tr>\n",
              "      <td>1</td>\n",
              "      <td>4.982258</td>\n",
              "      <td>5.316797</td>\n",
              "      <td>0.191671</td>\n",
              "      <td>0.808329</td>\n",
              "      <td>203.730331</td>\n",
              "      <td>00:24</td>\n",
              "    </tr>\n",
              "    <tr>\n",
              "      <td>2</td>\n",
              "      <td>4.716151</td>\n",
              "      <td>5.267337</td>\n",
              "      <td>0.197065</td>\n",
              "      <td>0.802935</td>\n",
              "      <td>193.898987</td>\n",
              "      <td>00:24</td>\n",
              "    </tr>\n",
              "    <tr>\n",
              "      <td>3</td>\n",
              "      <td>4.385621</td>\n",
              "      <td>5.281238</td>\n",
              "      <td>0.201587</td>\n",
              "      <td>0.798413</td>\n",
              "      <td>196.613052</td>\n",
              "      <td>00:24</td>\n",
              "    </tr>\n",
              "    <tr>\n",
              "      <td>4</td>\n",
              "      <td>4.046008</td>\n",
              "      <td>5.316517</td>\n",
              "      <td>0.200163</td>\n",
              "      <td>0.799838</td>\n",
              "      <td>203.673325</td>\n",
              "      <td>00:23</td>\n",
              "    </tr>\n",
              "    <tr>\n",
              "      <td>5</td>\n",
              "      <td>3.714617</td>\n",
              "      <td>5.414769</td>\n",
              "      <td>0.198436</td>\n",
              "      <td>0.801564</td>\n",
              "      <td>224.700668</td>\n",
              "      <td>00:24</td>\n",
              "    </tr>\n",
              "    <tr>\n",
              "      <td>6</td>\n",
              "      <td>3.470718</td>\n",
              "      <td>00:15</td>\n",
              "    </tr>\n",
              "  </tbody>\n",
              "</table>"
            ],
            "text/plain": [
              "<IPython.core.display.HTML object>"
            ]
          },
          "metadata": {
            "tags": []
          }
        },
        {
          "output_type": "error",
          "ename": "KeyboardInterrupt",
          "evalue": "ignored",
          "traceback": [
            "\u001b[0;31m---------------------------------------------------------------------------\u001b[0m",
            "\u001b[0;31mKeyboardInterrupt\u001b[0m                         Traceback (most recent call last)",
            "\u001b[0;32m<ipython-input-44-a21773809809>\u001b[0m in \u001b[0;36m<module>\u001b[0;34m()\u001b[0m\n\u001b[1;32m      1\u001b[0m \u001b[0mlearn\u001b[0m\u001b[0;34m.\u001b[0m\u001b[0munfreeze\u001b[0m\u001b[0;34m(\u001b[0m\u001b[0;34m)\u001b[0m\u001b[0;34m\u001b[0m\u001b[0;34m\u001b[0m\u001b[0m\n\u001b[0;32m----> 2\u001b[0;31m \u001b[0mlearn\u001b[0m\u001b[0;34m.\u001b[0m\u001b[0mfit_one_cycle\u001b[0m\u001b[0;34m(\u001b[0m\u001b[0;36m10\u001b[0m\u001b[0;34m,\u001b[0m \u001b[0;36m2e-3\u001b[0m\u001b[0;34m)\u001b[0m\u001b[0;34m\u001b[0m\u001b[0;34m\u001b[0m\u001b[0m\n\u001b[0m",
            "\u001b[0;32m/usr/local/lib/python3.6/dist-packages/fastcore/logargs.py\u001b[0m in \u001b[0;36m_f\u001b[0;34m(*args, **kwargs)\u001b[0m\n\u001b[1;32m     54\u001b[0m         \u001b[0minit_args\u001b[0m\u001b[0;34m.\u001b[0m\u001b[0mupdate\u001b[0m\u001b[0;34m(\u001b[0m\u001b[0mlog\u001b[0m\u001b[0;34m)\u001b[0m\u001b[0;34m\u001b[0m\u001b[0;34m\u001b[0m\u001b[0m\n\u001b[1;32m     55\u001b[0m         \u001b[0msetattr\u001b[0m\u001b[0;34m(\u001b[0m\u001b[0minst\u001b[0m\u001b[0;34m,\u001b[0m \u001b[0;34m'init_args'\u001b[0m\u001b[0;34m,\u001b[0m \u001b[0minit_args\u001b[0m\u001b[0;34m)\u001b[0m\u001b[0;34m\u001b[0m\u001b[0;34m\u001b[0m\u001b[0m\n\u001b[0;32m---> 56\u001b[0;31m         \u001b[0;32mreturn\u001b[0m \u001b[0minst\u001b[0m \u001b[0;32mif\u001b[0m \u001b[0mto_return\u001b[0m \u001b[0;32melse\u001b[0m \u001b[0mf\u001b[0m\u001b[0;34m(\u001b[0m\u001b[0;34m*\u001b[0m\u001b[0margs\u001b[0m\u001b[0;34m,\u001b[0m \u001b[0;34m**\u001b[0m\u001b[0mkwargs\u001b[0m\u001b[0;34m)\u001b[0m\u001b[0;34m\u001b[0m\u001b[0;34m\u001b[0m\u001b[0m\n\u001b[0m\u001b[1;32m     57\u001b[0m     \u001b[0;32mreturn\u001b[0m \u001b[0m_f\u001b[0m\u001b[0;34m\u001b[0m\u001b[0;34m\u001b[0m\u001b[0m\n",
            "\u001b[0;32m/usr/local/lib/python3.6/dist-packages/fastai/callback/schedule.py\u001b[0m in \u001b[0;36mfit_one_cycle\u001b[0;34m(self, n_epoch, lr_max, div, div_final, pct_start, wd, moms, cbs, reset_opt)\u001b[0m\n\u001b[1;32m    111\u001b[0m     scheds = {'lr': combined_cos(pct_start, lr_max/div, lr_max, lr_max/div_final),\n\u001b[1;32m    112\u001b[0m               'mom': combined_cos(pct_start, *(self.moms if moms is None else moms))}\n\u001b[0;32m--> 113\u001b[0;31m     \u001b[0mself\u001b[0m\u001b[0;34m.\u001b[0m\u001b[0mfit\u001b[0m\u001b[0;34m(\u001b[0m\u001b[0mn_epoch\u001b[0m\u001b[0;34m,\u001b[0m \u001b[0mcbs\u001b[0m\u001b[0;34m=\u001b[0m\u001b[0mParamScheduler\u001b[0m\u001b[0;34m(\u001b[0m\u001b[0mscheds\u001b[0m\u001b[0;34m)\u001b[0m\u001b[0;34m+\u001b[0m\u001b[0mL\u001b[0m\u001b[0;34m(\u001b[0m\u001b[0mcbs\u001b[0m\u001b[0;34m)\u001b[0m\u001b[0;34m,\u001b[0m \u001b[0mreset_opt\u001b[0m\u001b[0;34m=\u001b[0m\u001b[0mreset_opt\u001b[0m\u001b[0;34m,\u001b[0m \u001b[0mwd\u001b[0m\u001b[0;34m=\u001b[0m\u001b[0mwd\u001b[0m\u001b[0;34m)\u001b[0m\u001b[0;34m\u001b[0m\u001b[0;34m\u001b[0m\u001b[0m\n\u001b[0m\u001b[1;32m    114\u001b[0m \u001b[0;34m\u001b[0m\u001b[0m\n\u001b[1;32m    115\u001b[0m \u001b[0;31m# Cell\u001b[0m\u001b[0;34m\u001b[0m\u001b[0;34m\u001b[0m\u001b[0;34m\u001b[0m\u001b[0m\n",
            "\u001b[0;32m/usr/local/lib/python3.6/dist-packages/fastcore/logargs.py\u001b[0m in \u001b[0;36m_f\u001b[0;34m(*args, **kwargs)\u001b[0m\n\u001b[1;32m     54\u001b[0m         \u001b[0minit_args\u001b[0m\u001b[0;34m.\u001b[0m\u001b[0mupdate\u001b[0m\u001b[0;34m(\u001b[0m\u001b[0mlog\u001b[0m\u001b[0;34m)\u001b[0m\u001b[0;34m\u001b[0m\u001b[0;34m\u001b[0m\u001b[0m\n\u001b[1;32m     55\u001b[0m         \u001b[0msetattr\u001b[0m\u001b[0;34m(\u001b[0m\u001b[0minst\u001b[0m\u001b[0;34m,\u001b[0m \u001b[0;34m'init_args'\u001b[0m\u001b[0;34m,\u001b[0m \u001b[0minit_args\u001b[0m\u001b[0;34m)\u001b[0m\u001b[0;34m\u001b[0m\u001b[0;34m\u001b[0m\u001b[0m\n\u001b[0;32m---> 56\u001b[0;31m         \u001b[0;32mreturn\u001b[0m \u001b[0minst\u001b[0m \u001b[0;32mif\u001b[0m \u001b[0mto_return\u001b[0m \u001b[0;32melse\u001b[0m \u001b[0mf\u001b[0m\u001b[0;34m(\u001b[0m\u001b[0;34m*\u001b[0m\u001b[0margs\u001b[0m\u001b[0;34m,\u001b[0m \u001b[0;34m**\u001b[0m\u001b[0mkwargs\u001b[0m\u001b[0;34m)\u001b[0m\u001b[0;34m\u001b[0m\u001b[0;34m\u001b[0m\u001b[0m\n\u001b[0m\u001b[1;32m     57\u001b[0m     \u001b[0;32mreturn\u001b[0m \u001b[0m_f\u001b[0m\u001b[0;34m\u001b[0m\u001b[0;34m\u001b[0m\u001b[0m\n",
            "\u001b[0;32m/usr/local/lib/python3.6/dist-packages/fastai/learner.py\u001b[0m in \u001b[0;36mfit\u001b[0;34m(self, n_epoch, lr, wd, cbs, reset_opt)\u001b[0m\n\u001b[1;32m    205\u001b[0m             \u001b[0mself\u001b[0m\u001b[0;34m.\u001b[0m\u001b[0mopt\u001b[0m\u001b[0;34m.\u001b[0m\u001b[0mset_hypers\u001b[0m\u001b[0;34m(\u001b[0m\u001b[0mlr\u001b[0m\u001b[0;34m=\u001b[0m\u001b[0mself\u001b[0m\u001b[0;34m.\u001b[0m\u001b[0mlr\u001b[0m \u001b[0;32mif\u001b[0m \u001b[0mlr\u001b[0m \u001b[0;32mis\u001b[0m \u001b[0;32mNone\u001b[0m \u001b[0;32melse\u001b[0m \u001b[0mlr\u001b[0m\u001b[0;34m)\u001b[0m\u001b[0;34m\u001b[0m\u001b[0;34m\u001b[0m\u001b[0m\n\u001b[1;32m    206\u001b[0m             \u001b[0mself\u001b[0m\u001b[0;34m.\u001b[0m\u001b[0mn_epoch\u001b[0m \u001b[0;34m=\u001b[0m \u001b[0mn_epoch\u001b[0m\u001b[0;34m\u001b[0m\u001b[0;34m\u001b[0m\u001b[0m\n\u001b[0;32m--> 207\u001b[0;31m             \u001b[0mself\u001b[0m\u001b[0;34m.\u001b[0m\u001b[0m_with_events\u001b[0m\u001b[0;34m(\u001b[0m\u001b[0mself\u001b[0m\u001b[0;34m.\u001b[0m\u001b[0m_do_fit\u001b[0m\u001b[0;34m,\u001b[0m \u001b[0;34m'fit'\u001b[0m\u001b[0;34m,\u001b[0m \u001b[0mCancelFitException\u001b[0m\u001b[0;34m,\u001b[0m \u001b[0mself\u001b[0m\u001b[0;34m.\u001b[0m\u001b[0m_end_cleanup\u001b[0m\u001b[0;34m)\u001b[0m\u001b[0;34m\u001b[0m\u001b[0;34m\u001b[0m\u001b[0m\n\u001b[0m\u001b[1;32m    208\u001b[0m \u001b[0;34m\u001b[0m\u001b[0m\n\u001b[1;32m    209\u001b[0m     \u001b[0;32mdef\u001b[0m \u001b[0m_end_cleanup\u001b[0m\u001b[0;34m(\u001b[0m\u001b[0mself\u001b[0m\u001b[0;34m)\u001b[0m\u001b[0;34m:\u001b[0m \u001b[0mself\u001b[0m\u001b[0;34m.\u001b[0m\u001b[0mdl\u001b[0m\u001b[0;34m,\u001b[0m\u001b[0mself\u001b[0m\u001b[0;34m.\u001b[0m\u001b[0mxb\u001b[0m\u001b[0;34m,\u001b[0m\u001b[0mself\u001b[0m\u001b[0;34m.\u001b[0m\u001b[0myb\u001b[0m\u001b[0;34m,\u001b[0m\u001b[0mself\u001b[0m\u001b[0;34m.\u001b[0m\u001b[0mpred\u001b[0m\u001b[0;34m,\u001b[0m\u001b[0mself\u001b[0m\u001b[0;34m.\u001b[0m\u001b[0mloss\u001b[0m \u001b[0;34m=\u001b[0m \u001b[0;32mNone\u001b[0m\u001b[0;34m,\u001b[0m\u001b[0;34m(\u001b[0m\u001b[0;32mNone\u001b[0m\u001b[0;34m,\u001b[0m\u001b[0;34m)\u001b[0m\u001b[0;34m,\u001b[0m\u001b[0;34m(\u001b[0m\u001b[0;32mNone\u001b[0m\u001b[0;34m,\u001b[0m\u001b[0;34m)\u001b[0m\u001b[0;34m,\u001b[0m\u001b[0;32mNone\u001b[0m\u001b[0;34m,\u001b[0m\u001b[0;32mNone\u001b[0m\u001b[0;34m\u001b[0m\u001b[0;34m\u001b[0m\u001b[0m\n",
            "\u001b[0;32m/usr/local/lib/python3.6/dist-packages/fastai/learner.py\u001b[0m in \u001b[0;36m_with_events\u001b[0;34m(self, f, event_type, ex, final)\u001b[0m\n\u001b[1;32m    153\u001b[0m \u001b[0;34m\u001b[0m\u001b[0m\n\u001b[1;32m    154\u001b[0m     \u001b[0;32mdef\u001b[0m \u001b[0m_with_events\u001b[0m\u001b[0;34m(\u001b[0m\u001b[0mself\u001b[0m\u001b[0;34m,\u001b[0m \u001b[0mf\u001b[0m\u001b[0;34m,\u001b[0m \u001b[0mevent_type\u001b[0m\u001b[0;34m,\u001b[0m \u001b[0mex\u001b[0m\u001b[0;34m,\u001b[0m \u001b[0mfinal\u001b[0m\u001b[0;34m=\u001b[0m\u001b[0mnoop\u001b[0m\u001b[0;34m)\u001b[0m\u001b[0;34m:\u001b[0m\u001b[0;34m\u001b[0m\u001b[0;34m\u001b[0m\u001b[0m\n\u001b[0;32m--> 155\u001b[0;31m         \u001b[0;32mtry\u001b[0m\u001b[0;34m:\u001b[0m       \u001b[0mself\u001b[0m\u001b[0;34m(\u001b[0m\u001b[0;34mf'before_{event_type}'\u001b[0m\u001b[0;34m)\u001b[0m       \u001b[0;34m;\u001b[0m\u001b[0mf\u001b[0m\u001b[0;34m(\u001b[0m\u001b[0;34m)\u001b[0m\u001b[0;34m\u001b[0m\u001b[0;34m\u001b[0m\u001b[0m\n\u001b[0m\u001b[1;32m    156\u001b[0m         \u001b[0;32mexcept\u001b[0m \u001b[0mex\u001b[0m\u001b[0;34m:\u001b[0m \u001b[0mself\u001b[0m\u001b[0;34m(\u001b[0m\u001b[0;34mf'after_cancel_{event_type}'\u001b[0m\u001b[0;34m)\u001b[0m\u001b[0;34m\u001b[0m\u001b[0;34m\u001b[0m\u001b[0m\n\u001b[1;32m    157\u001b[0m         \u001b[0;32mfinally\u001b[0m\u001b[0;34m:\u001b[0m   \u001b[0mself\u001b[0m\u001b[0;34m(\u001b[0m\u001b[0;34mf'after_{event_type}'\u001b[0m\u001b[0;34m)\u001b[0m        \u001b[0;34m;\u001b[0m\u001b[0mfinal\u001b[0m\u001b[0;34m(\u001b[0m\u001b[0;34m)\u001b[0m\u001b[0;34m\u001b[0m\u001b[0;34m\u001b[0m\u001b[0m\n",
            "\u001b[0;32m/usr/local/lib/python3.6/dist-packages/fastai/learner.py\u001b[0m in \u001b[0;36m_do_fit\u001b[0;34m(self)\u001b[0m\n\u001b[1;32m    195\u001b[0m         \u001b[0;32mfor\u001b[0m \u001b[0mepoch\u001b[0m \u001b[0;32min\u001b[0m \u001b[0mrange\u001b[0m\u001b[0;34m(\u001b[0m\u001b[0mself\u001b[0m\u001b[0;34m.\u001b[0m\u001b[0mn_epoch\u001b[0m\u001b[0;34m)\u001b[0m\u001b[0;34m:\u001b[0m\u001b[0;34m\u001b[0m\u001b[0;34m\u001b[0m\u001b[0m\n\u001b[1;32m    196\u001b[0m             \u001b[0mself\u001b[0m\u001b[0;34m.\u001b[0m\u001b[0mepoch\u001b[0m\u001b[0;34m=\u001b[0m\u001b[0mepoch\u001b[0m\u001b[0;34m\u001b[0m\u001b[0;34m\u001b[0m\u001b[0m\n\u001b[0;32m--> 197\u001b[0;31m             \u001b[0mself\u001b[0m\u001b[0;34m.\u001b[0m\u001b[0m_with_events\u001b[0m\u001b[0;34m(\u001b[0m\u001b[0mself\u001b[0m\u001b[0;34m.\u001b[0m\u001b[0m_do_epoch\u001b[0m\u001b[0;34m,\u001b[0m \u001b[0;34m'epoch'\u001b[0m\u001b[0;34m,\u001b[0m \u001b[0mCancelEpochException\u001b[0m\u001b[0;34m)\u001b[0m\u001b[0;34m\u001b[0m\u001b[0;34m\u001b[0m\u001b[0m\n\u001b[0m\u001b[1;32m    198\u001b[0m \u001b[0;34m\u001b[0m\u001b[0m\n\u001b[1;32m    199\u001b[0m     \u001b[0;34m@\u001b[0m\u001b[0mlog_args\u001b[0m\u001b[0;34m(\u001b[0m\u001b[0mbut\u001b[0m\u001b[0;34m=\u001b[0m\u001b[0;34m'cbs'\u001b[0m\u001b[0;34m)\u001b[0m\u001b[0;34m\u001b[0m\u001b[0;34m\u001b[0m\u001b[0m\n",
            "\u001b[0;32m/usr/local/lib/python3.6/dist-packages/fastai/learner.py\u001b[0m in \u001b[0;36m_with_events\u001b[0;34m(self, f, event_type, ex, final)\u001b[0m\n\u001b[1;32m    153\u001b[0m \u001b[0;34m\u001b[0m\u001b[0m\n\u001b[1;32m    154\u001b[0m     \u001b[0;32mdef\u001b[0m \u001b[0m_with_events\u001b[0m\u001b[0;34m(\u001b[0m\u001b[0mself\u001b[0m\u001b[0;34m,\u001b[0m \u001b[0mf\u001b[0m\u001b[0;34m,\u001b[0m \u001b[0mevent_type\u001b[0m\u001b[0;34m,\u001b[0m \u001b[0mex\u001b[0m\u001b[0;34m,\u001b[0m \u001b[0mfinal\u001b[0m\u001b[0;34m=\u001b[0m\u001b[0mnoop\u001b[0m\u001b[0;34m)\u001b[0m\u001b[0;34m:\u001b[0m\u001b[0;34m\u001b[0m\u001b[0;34m\u001b[0m\u001b[0m\n\u001b[0;32m--> 155\u001b[0;31m         \u001b[0;32mtry\u001b[0m\u001b[0;34m:\u001b[0m       \u001b[0mself\u001b[0m\u001b[0;34m(\u001b[0m\u001b[0;34mf'before_{event_type}'\u001b[0m\u001b[0;34m)\u001b[0m       \u001b[0;34m;\u001b[0m\u001b[0mf\u001b[0m\u001b[0;34m(\u001b[0m\u001b[0;34m)\u001b[0m\u001b[0;34m\u001b[0m\u001b[0;34m\u001b[0m\u001b[0m\n\u001b[0m\u001b[1;32m    156\u001b[0m         \u001b[0;32mexcept\u001b[0m \u001b[0mex\u001b[0m\u001b[0;34m:\u001b[0m \u001b[0mself\u001b[0m\u001b[0;34m(\u001b[0m\u001b[0;34mf'after_cancel_{event_type}'\u001b[0m\u001b[0;34m)\u001b[0m\u001b[0;34m\u001b[0m\u001b[0;34m\u001b[0m\u001b[0m\n\u001b[1;32m    157\u001b[0m         \u001b[0;32mfinally\u001b[0m\u001b[0;34m:\u001b[0m   \u001b[0mself\u001b[0m\u001b[0;34m(\u001b[0m\u001b[0;34mf'after_{event_type}'\u001b[0m\u001b[0;34m)\u001b[0m        \u001b[0;34m;\u001b[0m\u001b[0mfinal\u001b[0m\u001b[0;34m(\u001b[0m\u001b[0;34m)\u001b[0m\u001b[0;34m\u001b[0m\u001b[0;34m\u001b[0m\u001b[0m\n",
            "\u001b[0;32m/usr/local/lib/python3.6/dist-packages/fastai/learner.py\u001b[0m in \u001b[0;36m_do_epoch\u001b[0;34m(self)\u001b[0m\n\u001b[1;32m    189\u001b[0m \u001b[0;34m\u001b[0m\u001b[0m\n\u001b[1;32m    190\u001b[0m     \u001b[0;32mdef\u001b[0m \u001b[0m_do_epoch\u001b[0m\u001b[0;34m(\u001b[0m\u001b[0mself\u001b[0m\u001b[0;34m)\u001b[0m\u001b[0;34m:\u001b[0m\u001b[0;34m\u001b[0m\u001b[0;34m\u001b[0m\u001b[0m\n\u001b[0;32m--> 191\u001b[0;31m         \u001b[0mself\u001b[0m\u001b[0;34m.\u001b[0m\u001b[0m_do_epoch_train\u001b[0m\u001b[0;34m(\u001b[0m\u001b[0;34m)\u001b[0m\u001b[0;34m\u001b[0m\u001b[0;34m\u001b[0m\u001b[0m\n\u001b[0m\u001b[1;32m    192\u001b[0m         \u001b[0mself\u001b[0m\u001b[0;34m.\u001b[0m\u001b[0m_do_epoch_validate\u001b[0m\u001b[0;34m(\u001b[0m\u001b[0;34m)\u001b[0m\u001b[0;34m\u001b[0m\u001b[0;34m\u001b[0m\u001b[0m\n\u001b[1;32m    193\u001b[0m \u001b[0;34m\u001b[0m\u001b[0m\n",
            "\u001b[0;32m/usr/local/lib/python3.6/dist-packages/fastai/learner.py\u001b[0m in \u001b[0;36m_do_epoch_train\u001b[0;34m(self)\u001b[0m\n\u001b[1;32m    181\u001b[0m     \u001b[0;32mdef\u001b[0m \u001b[0m_do_epoch_train\u001b[0m\u001b[0;34m(\u001b[0m\u001b[0mself\u001b[0m\u001b[0;34m)\u001b[0m\u001b[0;34m:\u001b[0m\u001b[0;34m\u001b[0m\u001b[0;34m\u001b[0m\u001b[0m\n\u001b[1;32m    182\u001b[0m         \u001b[0mself\u001b[0m\u001b[0;34m.\u001b[0m\u001b[0mdl\u001b[0m \u001b[0;34m=\u001b[0m \u001b[0mself\u001b[0m\u001b[0;34m.\u001b[0m\u001b[0mdls\u001b[0m\u001b[0;34m.\u001b[0m\u001b[0mtrain\u001b[0m\u001b[0;34m\u001b[0m\u001b[0;34m\u001b[0m\u001b[0m\n\u001b[0;32m--> 183\u001b[0;31m         \u001b[0mself\u001b[0m\u001b[0;34m.\u001b[0m\u001b[0m_with_events\u001b[0m\u001b[0;34m(\u001b[0m\u001b[0mself\u001b[0m\u001b[0;34m.\u001b[0m\u001b[0mall_batches\u001b[0m\u001b[0;34m,\u001b[0m \u001b[0;34m'train'\u001b[0m\u001b[0;34m,\u001b[0m \u001b[0mCancelTrainException\u001b[0m\u001b[0;34m)\u001b[0m\u001b[0;34m\u001b[0m\u001b[0;34m\u001b[0m\u001b[0m\n\u001b[0m\u001b[1;32m    184\u001b[0m \u001b[0;34m\u001b[0m\u001b[0m\n\u001b[1;32m    185\u001b[0m     \u001b[0;32mdef\u001b[0m \u001b[0m_do_epoch_validate\u001b[0m\u001b[0;34m(\u001b[0m\u001b[0mself\u001b[0m\u001b[0;34m,\u001b[0m \u001b[0mds_idx\u001b[0m\u001b[0;34m=\u001b[0m\u001b[0;36m1\u001b[0m\u001b[0;34m,\u001b[0m \u001b[0mdl\u001b[0m\u001b[0;34m=\u001b[0m\u001b[0;32mNone\u001b[0m\u001b[0;34m)\u001b[0m\u001b[0;34m:\u001b[0m\u001b[0;34m\u001b[0m\u001b[0;34m\u001b[0m\u001b[0m\n",
            "\u001b[0;32m/usr/local/lib/python3.6/dist-packages/fastai/learner.py\u001b[0m in \u001b[0;36m_with_events\u001b[0;34m(self, f, event_type, ex, final)\u001b[0m\n\u001b[1;32m    153\u001b[0m \u001b[0;34m\u001b[0m\u001b[0m\n\u001b[1;32m    154\u001b[0m     \u001b[0;32mdef\u001b[0m \u001b[0m_with_events\u001b[0m\u001b[0;34m(\u001b[0m\u001b[0mself\u001b[0m\u001b[0;34m,\u001b[0m \u001b[0mf\u001b[0m\u001b[0;34m,\u001b[0m \u001b[0mevent_type\u001b[0m\u001b[0;34m,\u001b[0m \u001b[0mex\u001b[0m\u001b[0;34m,\u001b[0m \u001b[0mfinal\u001b[0m\u001b[0;34m=\u001b[0m\u001b[0mnoop\u001b[0m\u001b[0;34m)\u001b[0m\u001b[0;34m:\u001b[0m\u001b[0;34m\u001b[0m\u001b[0;34m\u001b[0m\u001b[0m\n\u001b[0;32m--> 155\u001b[0;31m         \u001b[0;32mtry\u001b[0m\u001b[0;34m:\u001b[0m       \u001b[0mself\u001b[0m\u001b[0;34m(\u001b[0m\u001b[0;34mf'before_{event_type}'\u001b[0m\u001b[0;34m)\u001b[0m       \u001b[0;34m;\u001b[0m\u001b[0mf\u001b[0m\u001b[0;34m(\u001b[0m\u001b[0;34m)\u001b[0m\u001b[0;34m\u001b[0m\u001b[0;34m\u001b[0m\u001b[0m\n\u001b[0m\u001b[1;32m    156\u001b[0m         \u001b[0;32mexcept\u001b[0m \u001b[0mex\u001b[0m\u001b[0;34m:\u001b[0m \u001b[0mself\u001b[0m\u001b[0;34m(\u001b[0m\u001b[0;34mf'after_cancel_{event_type}'\u001b[0m\u001b[0;34m)\u001b[0m\u001b[0;34m\u001b[0m\u001b[0;34m\u001b[0m\u001b[0m\n\u001b[1;32m    157\u001b[0m         \u001b[0;32mfinally\u001b[0m\u001b[0;34m:\u001b[0m   \u001b[0mself\u001b[0m\u001b[0;34m(\u001b[0m\u001b[0;34mf'after_{event_type}'\u001b[0m\u001b[0;34m)\u001b[0m        \u001b[0;34m;\u001b[0m\u001b[0mfinal\u001b[0m\u001b[0;34m(\u001b[0m\u001b[0;34m)\u001b[0m\u001b[0;34m\u001b[0m\u001b[0;34m\u001b[0m\u001b[0m\n",
            "\u001b[0;32m/usr/local/lib/python3.6/dist-packages/fastai/learner.py\u001b[0m in \u001b[0;36mall_batches\u001b[0;34m(self)\u001b[0m\n\u001b[1;32m    159\u001b[0m     \u001b[0;32mdef\u001b[0m \u001b[0mall_batches\u001b[0m\u001b[0;34m(\u001b[0m\u001b[0mself\u001b[0m\u001b[0;34m)\u001b[0m\u001b[0;34m:\u001b[0m\u001b[0;34m\u001b[0m\u001b[0;34m\u001b[0m\u001b[0m\n\u001b[1;32m    160\u001b[0m         \u001b[0mself\u001b[0m\u001b[0;34m.\u001b[0m\u001b[0mn_iter\u001b[0m \u001b[0;34m=\u001b[0m \u001b[0mlen\u001b[0m\u001b[0;34m(\u001b[0m\u001b[0mself\u001b[0m\u001b[0;34m.\u001b[0m\u001b[0mdl\u001b[0m\u001b[0;34m)\u001b[0m\u001b[0;34m\u001b[0m\u001b[0;34m\u001b[0m\u001b[0m\n\u001b[0;32m--> 161\u001b[0;31m         \u001b[0;32mfor\u001b[0m \u001b[0mo\u001b[0m \u001b[0;32min\u001b[0m \u001b[0menumerate\u001b[0m\u001b[0;34m(\u001b[0m\u001b[0mself\u001b[0m\u001b[0;34m.\u001b[0m\u001b[0mdl\u001b[0m\u001b[0;34m)\u001b[0m\u001b[0;34m:\u001b[0m \u001b[0mself\u001b[0m\u001b[0;34m.\u001b[0m\u001b[0mone_batch\u001b[0m\u001b[0;34m(\u001b[0m\u001b[0;34m*\u001b[0m\u001b[0mo\u001b[0m\u001b[0;34m)\u001b[0m\u001b[0;34m\u001b[0m\u001b[0;34m\u001b[0m\u001b[0m\n\u001b[0m\u001b[1;32m    162\u001b[0m \u001b[0;34m\u001b[0m\u001b[0m\n\u001b[1;32m    163\u001b[0m     \u001b[0;32mdef\u001b[0m \u001b[0m_do_one_batch\u001b[0m\u001b[0;34m(\u001b[0m\u001b[0mself\u001b[0m\u001b[0;34m)\u001b[0m\u001b[0;34m:\u001b[0m\u001b[0;34m\u001b[0m\u001b[0;34m\u001b[0m\u001b[0m\n",
            "\u001b[0;32m/usr/local/lib/python3.6/dist-packages/fastai/data/load.py\u001b[0m in \u001b[0;36m__iter__\u001b[0;34m(self)\u001b[0m\n\u001b[1;32m    100\u001b[0m         \u001b[0mself\u001b[0m\u001b[0;34m.\u001b[0m\u001b[0mbefore_iter\u001b[0m\u001b[0;34m(\u001b[0m\u001b[0;34m)\u001b[0m\u001b[0;34m\u001b[0m\u001b[0;34m\u001b[0m\u001b[0m\n\u001b[1;32m    101\u001b[0m         \u001b[0mself\u001b[0m\u001b[0;34m.\u001b[0m\u001b[0m__idxs\u001b[0m\u001b[0;34m=\u001b[0m\u001b[0mself\u001b[0m\u001b[0;34m.\u001b[0m\u001b[0mget_idxs\u001b[0m\u001b[0;34m(\u001b[0m\u001b[0;34m)\u001b[0m \u001b[0;31m# called in context of main process (not workers/subprocesses)\u001b[0m\u001b[0;34m\u001b[0m\u001b[0;34m\u001b[0m\u001b[0m\n\u001b[0;32m--> 102\u001b[0;31m         \u001b[0;32mfor\u001b[0m \u001b[0mb\u001b[0m \u001b[0;32min\u001b[0m \u001b[0m_loaders\u001b[0m\u001b[0;34m[\u001b[0m\u001b[0mself\u001b[0m\u001b[0;34m.\u001b[0m\u001b[0mfake_l\u001b[0m\u001b[0;34m.\u001b[0m\u001b[0mnum_workers\u001b[0m\u001b[0;34m==\u001b[0m\u001b[0;36m0\u001b[0m\u001b[0;34m]\u001b[0m\u001b[0;34m(\u001b[0m\u001b[0mself\u001b[0m\u001b[0;34m.\u001b[0m\u001b[0mfake_l\u001b[0m\u001b[0;34m)\u001b[0m\u001b[0;34m:\u001b[0m\u001b[0;34m\u001b[0m\u001b[0;34m\u001b[0m\u001b[0m\n\u001b[0m\u001b[1;32m    103\u001b[0m             \u001b[0;32mif\u001b[0m \u001b[0mself\u001b[0m\u001b[0;34m.\u001b[0m\u001b[0mdevice\u001b[0m \u001b[0;32mis\u001b[0m \u001b[0;32mnot\u001b[0m \u001b[0;32mNone\u001b[0m\u001b[0;34m:\u001b[0m \u001b[0mb\u001b[0m \u001b[0;34m=\u001b[0m \u001b[0mto_device\u001b[0m\u001b[0;34m(\u001b[0m\u001b[0mb\u001b[0m\u001b[0;34m,\u001b[0m \u001b[0mself\u001b[0m\u001b[0;34m.\u001b[0m\u001b[0mdevice\u001b[0m\u001b[0;34m)\u001b[0m\u001b[0;34m\u001b[0m\u001b[0;34m\u001b[0m\u001b[0m\n\u001b[1;32m    104\u001b[0m             \u001b[0;32myield\u001b[0m \u001b[0mself\u001b[0m\u001b[0;34m.\u001b[0m\u001b[0mafter_batch\u001b[0m\u001b[0;34m(\u001b[0m\u001b[0mb\u001b[0m\u001b[0;34m)\u001b[0m\u001b[0;34m\u001b[0m\u001b[0;34m\u001b[0m\u001b[0m\n",
            "\u001b[0;32m/usr/local/lib/python3.6/dist-packages/torch/utils/data/dataloader.py\u001b[0m in \u001b[0;36m__next__\u001b[0;34m(self)\u001b[0m\n\u001b[1;32m    361\u001b[0m \u001b[0;34m\u001b[0m\u001b[0m\n\u001b[1;32m    362\u001b[0m     \u001b[0;32mdef\u001b[0m \u001b[0m__next__\u001b[0m\u001b[0;34m(\u001b[0m\u001b[0mself\u001b[0m\u001b[0;34m)\u001b[0m\u001b[0;34m:\u001b[0m\u001b[0;34m\u001b[0m\u001b[0;34m\u001b[0m\u001b[0m\n\u001b[0;32m--> 363\u001b[0;31m         \u001b[0mdata\u001b[0m \u001b[0;34m=\u001b[0m \u001b[0mself\u001b[0m\u001b[0;34m.\u001b[0m\u001b[0m_next_data\u001b[0m\u001b[0;34m(\u001b[0m\u001b[0;34m)\u001b[0m\u001b[0;34m\u001b[0m\u001b[0;34m\u001b[0m\u001b[0m\n\u001b[0m\u001b[1;32m    364\u001b[0m         \u001b[0mself\u001b[0m\u001b[0;34m.\u001b[0m\u001b[0m_num_yielded\u001b[0m \u001b[0;34m+=\u001b[0m \u001b[0;36m1\u001b[0m\u001b[0;34m\u001b[0m\u001b[0;34m\u001b[0m\u001b[0m\n\u001b[1;32m    365\u001b[0m         \u001b[0;32mif\u001b[0m \u001b[0mself\u001b[0m\u001b[0;34m.\u001b[0m\u001b[0m_dataset_kind\u001b[0m \u001b[0;34m==\u001b[0m \u001b[0m_DatasetKind\u001b[0m\u001b[0;34m.\u001b[0m\u001b[0mIterable\u001b[0m \u001b[0;32mand\u001b[0m\u001b[0;31m \u001b[0m\u001b[0;31m\\\u001b[0m\u001b[0;34m\u001b[0m\u001b[0;34m\u001b[0m\u001b[0m\n",
            "\u001b[0;32m/usr/local/lib/python3.6/dist-packages/torch/utils/data/dataloader.py\u001b[0m in \u001b[0;36m_next_data\u001b[0;34m(self)\u001b[0m\n\u001b[1;32m    401\u001b[0m     \u001b[0;32mdef\u001b[0m \u001b[0m_next_data\u001b[0m\u001b[0;34m(\u001b[0m\u001b[0mself\u001b[0m\u001b[0;34m)\u001b[0m\u001b[0;34m:\u001b[0m\u001b[0;34m\u001b[0m\u001b[0;34m\u001b[0m\u001b[0m\n\u001b[1;32m    402\u001b[0m         \u001b[0mindex\u001b[0m \u001b[0;34m=\u001b[0m \u001b[0mself\u001b[0m\u001b[0;34m.\u001b[0m\u001b[0m_next_index\u001b[0m\u001b[0;34m(\u001b[0m\u001b[0;34m)\u001b[0m  \u001b[0;31m# may raise StopIteration\u001b[0m\u001b[0;34m\u001b[0m\u001b[0;34m\u001b[0m\u001b[0m\n\u001b[0;32m--> 403\u001b[0;31m         \u001b[0mdata\u001b[0m \u001b[0;34m=\u001b[0m \u001b[0mself\u001b[0m\u001b[0;34m.\u001b[0m\u001b[0m_dataset_fetcher\u001b[0m\u001b[0;34m.\u001b[0m\u001b[0mfetch\u001b[0m\u001b[0;34m(\u001b[0m\u001b[0mindex\u001b[0m\u001b[0;34m)\u001b[0m  \u001b[0;31m# may raise StopIteration\u001b[0m\u001b[0;34m\u001b[0m\u001b[0;34m\u001b[0m\u001b[0m\n\u001b[0m\u001b[1;32m    404\u001b[0m         \u001b[0;32mif\u001b[0m \u001b[0mself\u001b[0m\u001b[0;34m.\u001b[0m\u001b[0m_pin_memory\u001b[0m\u001b[0;34m:\u001b[0m\u001b[0;34m\u001b[0m\u001b[0;34m\u001b[0m\u001b[0m\n\u001b[1;32m    405\u001b[0m             \u001b[0mdata\u001b[0m \u001b[0;34m=\u001b[0m \u001b[0m_utils\u001b[0m\u001b[0;34m.\u001b[0m\u001b[0mpin_memory\u001b[0m\u001b[0;34m.\u001b[0m\u001b[0mpin_memory\u001b[0m\u001b[0;34m(\u001b[0m\u001b[0mdata\u001b[0m\u001b[0;34m)\u001b[0m\u001b[0;34m\u001b[0m\u001b[0;34m\u001b[0m\u001b[0m\n",
            "\u001b[0;32m/usr/local/lib/python3.6/dist-packages/torch/utils/data/_utils/fetch.py\u001b[0m in \u001b[0;36mfetch\u001b[0;34m(self, possibly_batched_index)\u001b[0m\n\u001b[1;32m     32\u001b[0m                 \u001b[0;32mraise\u001b[0m \u001b[0mStopIteration\u001b[0m\u001b[0;34m\u001b[0m\u001b[0;34m\u001b[0m\u001b[0m\n\u001b[1;32m     33\u001b[0m         \u001b[0;32melse\u001b[0m\u001b[0;34m:\u001b[0m\u001b[0;34m\u001b[0m\u001b[0;34m\u001b[0m\u001b[0m\n\u001b[0;32m---> 34\u001b[0;31m             \u001b[0mdata\u001b[0m \u001b[0;34m=\u001b[0m \u001b[0mnext\u001b[0m\u001b[0;34m(\u001b[0m\u001b[0mself\u001b[0m\u001b[0;34m.\u001b[0m\u001b[0mdataset_iter\u001b[0m\u001b[0;34m)\u001b[0m\u001b[0;34m\u001b[0m\u001b[0;34m\u001b[0m\u001b[0m\n\u001b[0m\u001b[1;32m     35\u001b[0m         \u001b[0;32mreturn\u001b[0m \u001b[0mself\u001b[0m\u001b[0;34m.\u001b[0m\u001b[0mcollate_fn\u001b[0m\u001b[0;34m(\u001b[0m\u001b[0mdata\u001b[0m\u001b[0;34m)\u001b[0m\u001b[0;34m\u001b[0m\u001b[0;34m\u001b[0m\u001b[0m\n\u001b[1;32m     36\u001b[0m \u001b[0;34m\u001b[0m\u001b[0m\n",
            "\u001b[0;32m/usr/local/lib/python3.6/dist-packages/fastai/data/load.py\u001b[0m in \u001b[0;36mcreate_batches\u001b[0;34m(self, samps)\u001b[0m\n\u001b[1;32m    109\u001b[0m         \u001b[0mself\u001b[0m\u001b[0;34m.\u001b[0m\u001b[0mit\u001b[0m \u001b[0;34m=\u001b[0m \u001b[0miter\u001b[0m\u001b[0;34m(\u001b[0m\u001b[0mself\u001b[0m\u001b[0;34m.\u001b[0m\u001b[0mdataset\u001b[0m\u001b[0;34m)\u001b[0m \u001b[0;32mif\u001b[0m \u001b[0mself\u001b[0m\u001b[0;34m.\u001b[0m\u001b[0mdataset\u001b[0m \u001b[0;32mis\u001b[0m \u001b[0;32mnot\u001b[0m \u001b[0;32mNone\u001b[0m \u001b[0;32melse\u001b[0m \u001b[0;32mNone\u001b[0m\u001b[0;34m\u001b[0m\u001b[0;34m\u001b[0m\u001b[0m\n\u001b[1;32m    110\u001b[0m         \u001b[0mres\u001b[0m \u001b[0;34m=\u001b[0m \u001b[0mfilter\u001b[0m\u001b[0;34m(\u001b[0m\u001b[0;32mlambda\u001b[0m \u001b[0mo\u001b[0m\u001b[0;34m:\u001b[0m\u001b[0mo\u001b[0m \u001b[0;32mis\u001b[0m \u001b[0;32mnot\u001b[0m \u001b[0;32mNone\u001b[0m\u001b[0;34m,\u001b[0m \u001b[0mmap\u001b[0m\u001b[0;34m(\u001b[0m\u001b[0mself\u001b[0m\u001b[0;34m.\u001b[0m\u001b[0mdo_item\u001b[0m\u001b[0;34m,\u001b[0m \u001b[0msamps\u001b[0m\u001b[0;34m)\u001b[0m\u001b[0;34m)\u001b[0m\u001b[0;34m\u001b[0m\u001b[0;34m\u001b[0m\u001b[0m\n\u001b[0;32m--> 111\u001b[0;31m         \u001b[0;32myield\u001b[0m \u001b[0;32mfrom\u001b[0m \u001b[0mmap\u001b[0m\u001b[0;34m(\u001b[0m\u001b[0mself\u001b[0m\u001b[0;34m.\u001b[0m\u001b[0mdo_batch\u001b[0m\u001b[0;34m,\u001b[0m \u001b[0mself\u001b[0m\u001b[0;34m.\u001b[0m\u001b[0mchunkify\u001b[0m\u001b[0;34m(\u001b[0m\u001b[0mres\u001b[0m\u001b[0;34m)\u001b[0m\u001b[0;34m)\u001b[0m\u001b[0;34m\u001b[0m\u001b[0;34m\u001b[0m\u001b[0m\n\u001b[0m\u001b[1;32m    112\u001b[0m \u001b[0;34m\u001b[0m\u001b[0m\n\u001b[1;32m    113\u001b[0m     \u001b[0;32mdef\u001b[0m \u001b[0mnew\u001b[0m\u001b[0;34m(\u001b[0m\u001b[0mself\u001b[0m\u001b[0;34m,\u001b[0m \u001b[0mdataset\u001b[0m\u001b[0;34m=\u001b[0m\u001b[0;32mNone\u001b[0m\u001b[0;34m,\u001b[0m \u001b[0mcls\u001b[0m\u001b[0;34m=\u001b[0m\u001b[0;32mNone\u001b[0m\u001b[0;34m,\u001b[0m \u001b[0;34m**\u001b[0m\u001b[0mkwargs\u001b[0m\u001b[0;34m)\u001b[0m\u001b[0;34m:\u001b[0m\u001b[0;34m\u001b[0m\u001b[0;34m\u001b[0m\u001b[0m\n",
            "\u001b[0;32m/usr/local/lib/python3.6/dist-packages/fastcore/utils.py\u001b[0m in \u001b[0;36mchunked\u001b[0;34m(it, chunk_sz, drop_last, n_chunks)\u001b[0m\n\u001b[1;32m    163\u001b[0m     \u001b[0;32mif\u001b[0m \u001b[0;32mnot\u001b[0m \u001b[0misinstance\u001b[0m\u001b[0;34m(\u001b[0m\u001b[0mit\u001b[0m\u001b[0;34m,\u001b[0m \u001b[0mIterator\u001b[0m\u001b[0;34m)\u001b[0m\u001b[0;34m:\u001b[0m \u001b[0mit\u001b[0m \u001b[0;34m=\u001b[0m \u001b[0miter\u001b[0m\u001b[0;34m(\u001b[0m\u001b[0mit\u001b[0m\u001b[0;34m)\u001b[0m\u001b[0;34m\u001b[0m\u001b[0;34m\u001b[0m\u001b[0m\n\u001b[1;32m    164\u001b[0m     \u001b[0;32mwhile\u001b[0m \u001b[0;32mTrue\u001b[0m\u001b[0;34m:\u001b[0m\u001b[0;34m\u001b[0m\u001b[0;34m\u001b[0m\u001b[0m\n\u001b[0;32m--> 165\u001b[0;31m         \u001b[0mres\u001b[0m \u001b[0;34m=\u001b[0m \u001b[0mlist\u001b[0m\u001b[0;34m(\u001b[0m\u001b[0mitertools\u001b[0m\u001b[0;34m.\u001b[0m\u001b[0mislice\u001b[0m\u001b[0;34m(\u001b[0m\u001b[0mit\u001b[0m\u001b[0;34m,\u001b[0m \u001b[0mchunk_sz\u001b[0m\u001b[0;34m)\u001b[0m\u001b[0;34m)\u001b[0m\u001b[0;34m\u001b[0m\u001b[0;34m\u001b[0m\u001b[0m\n\u001b[0m\u001b[1;32m    166\u001b[0m         \u001b[0;32mif\u001b[0m \u001b[0mres\u001b[0m \u001b[0;32mand\u001b[0m \u001b[0;34m(\u001b[0m\u001b[0mlen\u001b[0m\u001b[0;34m(\u001b[0m\u001b[0mres\u001b[0m\u001b[0;34m)\u001b[0m\u001b[0;34m==\u001b[0m\u001b[0mchunk_sz\u001b[0m \u001b[0;32mor\u001b[0m \u001b[0;32mnot\u001b[0m \u001b[0mdrop_last\u001b[0m\u001b[0;34m)\u001b[0m\u001b[0;34m:\u001b[0m \u001b[0;32myield\u001b[0m \u001b[0mres\u001b[0m\u001b[0;34m\u001b[0m\u001b[0;34m\u001b[0m\u001b[0m\n\u001b[1;32m    167\u001b[0m         \u001b[0;32mif\u001b[0m \u001b[0mlen\u001b[0m\u001b[0;34m(\u001b[0m\u001b[0mres\u001b[0m\u001b[0;34m)\u001b[0m\u001b[0;34m<\u001b[0m\u001b[0mchunk_sz\u001b[0m\u001b[0;34m:\u001b[0m \u001b[0;32mreturn\u001b[0m\u001b[0;34m\u001b[0m\u001b[0;34m\u001b[0m\u001b[0m\n",
            "\u001b[0;32m/usr/local/lib/python3.6/dist-packages/fastai/data/load.py\u001b[0m in \u001b[0;36mdo_item\u001b[0;34m(self, s)\u001b[0m\n\u001b[1;32m    122\u001b[0m     \u001b[0;32mdef\u001b[0m \u001b[0mprebatched\u001b[0m\u001b[0;34m(\u001b[0m\u001b[0mself\u001b[0m\u001b[0;34m)\u001b[0m\u001b[0;34m:\u001b[0m \u001b[0;32mreturn\u001b[0m \u001b[0mself\u001b[0m\u001b[0;34m.\u001b[0m\u001b[0mbs\u001b[0m \u001b[0;32mis\u001b[0m \u001b[0;32mNone\u001b[0m\u001b[0;34m\u001b[0m\u001b[0;34m\u001b[0m\u001b[0m\n\u001b[1;32m    123\u001b[0m     \u001b[0;32mdef\u001b[0m \u001b[0mdo_item\u001b[0m\u001b[0;34m(\u001b[0m\u001b[0mself\u001b[0m\u001b[0;34m,\u001b[0m \u001b[0ms\u001b[0m\u001b[0;34m)\u001b[0m\u001b[0;34m:\u001b[0m\u001b[0;34m\u001b[0m\u001b[0;34m\u001b[0m\u001b[0m\n\u001b[0;32m--> 124\u001b[0;31m         \u001b[0;32mtry\u001b[0m\u001b[0;34m:\u001b[0m \u001b[0;32mreturn\u001b[0m \u001b[0mself\u001b[0m\u001b[0;34m.\u001b[0m\u001b[0mafter_item\u001b[0m\u001b[0;34m(\u001b[0m\u001b[0mself\u001b[0m\u001b[0;34m.\u001b[0m\u001b[0mcreate_item\u001b[0m\u001b[0;34m(\u001b[0m\u001b[0ms\u001b[0m\u001b[0;34m)\u001b[0m\u001b[0;34m)\u001b[0m\u001b[0;34m\u001b[0m\u001b[0;34m\u001b[0m\u001b[0m\n\u001b[0m\u001b[1;32m    125\u001b[0m         \u001b[0;32mexcept\u001b[0m \u001b[0mSkipItemException\u001b[0m\u001b[0;34m:\u001b[0m \u001b[0;32mreturn\u001b[0m \u001b[0;32mNone\u001b[0m\u001b[0;34m\u001b[0m\u001b[0;34m\u001b[0m\u001b[0m\n\u001b[1;32m    126\u001b[0m     \u001b[0;32mdef\u001b[0m \u001b[0mchunkify\u001b[0m\u001b[0;34m(\u001b[0m\u001b[0mself\u001b[0m\u001b[0;34m,\u001b[0m \u001b[0mb\u001b[0m\u001b[0;34m)\u001b[0m\u001b[0;34m:\u001b[0m \u001b[0;32mreturn\u001b[0m \u001b[0mb\u001b[0m \u001b[0;32mif\u001b[0m \u001b[0mself\u001b[0m\u001b[0;34m.\u001b[0m\u001b[0mprebatched\u001b[0m \u001b[0;32melse\u001b[0m \u001b[0mchunked\u001b[0m\u001b[0;34m(\u001b[0m\u001b[0mb\u001b[0m\u001b[0;34m,\u001b[0m \u001b[0mself\u001b[0m\u001b[0;34m.\u001b[0m\u001b[0mbs\u001b[0m\u001b[0;34m,\u001b[0m \u001b[0mself\u001b[0m\u001b[0;34m.\u001b[0m\u001b[0mdrop_last\u001b[0m\u001b[0;34m)\u001b[0m\u001b[0;34m\u001b[0m\u001b[0;34m\u001b[0m\u001b[0m\n",
            "\u001b[0;32m/usr/local/lib/python3.6/dist-packages/fastai/text/data.py\u001b[0m in \u001b[0;36mcreate_item\u001b[0;34m(self, seq)\u001b[0m\n\u001b[1;32m     97\u001b[0m         \u001b[0msl\u001b[0m \u001b[0;34m=\u001b[0m \u001b[0mself\u001b[0m\u001b[0;34m.\u001b[0m\u001b[0mlast_len\u001b[0m \u001b[0;32mif\u001b[0m \u001b[0mseq\u001b[0m\u001b[0;34m//\u001b[0m\u001b[0mself\u001b[0m\u001b[0;34m.\u001b[0m\u001b[0mbs\u001b[0m\u001b[0;34m==\u001b[0m\u001b[0mself\u001b[0m\u001b[0;34m.\u001b[0m\u001b[0mn_batches\u001b[0m\u001b[0;34m-\u001b[0m\u001b[0;36m1\u001b[0m \u001b[0;32melse\u001b[0m \u001b[0mself\u001b[0m\u001b[0;34m.\u001b[0m\u001b[0mseq_len\u001b[0m\u001b[0;34m\u001b[0m\u001b[0;34m\u001b[0m\u001b[0m\n\u001b[1;32m     98\u001b[0m         \u001b[0mst\u001b[0m \u001b[0;34m=\u001b[0m \u001b[0;34m(\u001b[0m\u001b[0mseq\u001b[0m\u001b[0;34m%\u001b[0m\u001b[0mself\u001b[0m\u001b[0;34m.\u001b[0m\u001b[0mbs\u001b[0m\u001b[0;34m)\u001b[0m\u001b[0;34m*\u001b[0m\u001b[0mself\u001b[0m\u001b[0;34m.\u001b[0m\u001b[0mbl\u001b[0m \u001b[0;34m+\u001b[0m \u001b[0;34m(\u001b[0m\u001b[0mseq\u001b[0m\u001b[0;34m//\u001b[0m\u001b[0mself\u001b[0m\u001b[0;34m.\u001b[0m\u001b[0mbs\u001b[0m\u001b[0;34m)\u001b[0m\u001b[0;34m*\u001b[0m\u001b[0mself\u001b[0m\u001b[0;34m.\u001b[0m\u001b[0mseq_len\u001b[0m\u001b[0;34m\u001b[0m\u001b[0;34m\u001b[0m\u001b[0m\n\u001b[0;32m---> 99\u001b[0;31m         \u001b[0mtxt\u001b[0m \u001b[0;34m=\u001b[0m \u001b[0mself\u001b[0m\u001b[0;34m.\u001b[0m\u001b[0mchunks\u001b[0m\u001b[0;34m[\u001b[0m\u001b[0mst\u001b[0m \u001b[0;34m:\u001b[0m \u001b[0mst\u001b[0m\u001b[0;34m+\u001b[0m\u001b[0msl\u001b[0m\u001b[0;34m+\u001b[0m\u001b[0;36m1\u001b[0m\u001b[0;34m]\u001b[0m\u001b[0;34m\u001b[0m\u001b[0;34m\u001b[0m\u001b[0m\n\u001b[0m\u001b[1;32m    100\u001b[0m         \u001b[0;32mreturn\u001b[0m \u001b[0mLMTensorText\u001b[0m\u001b[0;34m(\u001b[0m\u001b[0mtxt\u001b[0m\u001b[0;34m[\u001b[0m\u001b[0;34m:\u001b[0m\u001b[0;34m-\u001b[0m\u001b[0;36m1\u001b[0m\u001b[0;34m]\u001b[0m\u001b[0;34m)\u001b[0m\u001b[0;34m,\u001b[0m\u001b[0mtxt\u001b[0m\u001b[0;34m[\u001b[0m\u001b[0;36m1\u001b[0m\u001b[0;34m:\u001b[0m\u001b[0;34m]\u001b[0m\u001b[0;34m\u001b[0m\u001b[0;34m\u001b[0m\u001b[0m\n\u001b[1;32m    101\u001b[0m \u001b[0;34m\u001b[0m\u001b[0m\n",
            "\u001b[0;32m/usr/local/lib/python3.6/dist-packages/fastai/torch_core.py\u001b[0m in \u001b[0;36m__getitem__\u001b[0;34m(self, i)\u001b[0m\n\u001b[1;32m    414\u001b[0m \u001b[0;34m\u001b[0m\u001b[0m\n\u001b[1;32m    415\u001b[0m     \u001b[0;32mdef\u001b[0m \u001b[0m__getitem__\u001b[0m\u001b[0;34m(\u001b[0m\u001b[0mself\u001b[0m\u001b[0;34m,\u001b[0m\u001b[0mi\u001b[0m\u001b[0;34m)\u001b[0m\u001b[0;34m:\u001b[0m\u001b[0;34m\u001b[0m\u001b[0;34m\u001b[0m\u001b[0m\n\u001b[0;32m--> 416\u001b[0;31m         \u001b[0;32mif\u001b[0m \u001b[0misinstance\u001b[0m\u001b[0;34m(\u001b[0m\u001b[0mi\u001b[0m\u001b[0;34m,\u001b[0m\u001b[0mslice\u001b[0m\u001b[0;34m)\u001b[0m\u001b[0;34m:\u001b[0m \u001b[0;32mreturn\u001b[0m \u001b[0mretain_type\u001b[0m\u001b[0;34m(\u001b[0m\u001b[0mself\u001b[0m\u001b[0;34m.\u001b[0m\u001b[0mgetslice\u001b[0m\u001b[0;34m(\u001b[0m\u001b[0mi\u001b[0m\u001b[0;34m)\u001b[0m\u001b[0;34m,\u001b[0m \u001b[0mold\u001b[0m\u001b[0;34m=\u001b[0m\u001b[0mself\u001b[0m\u001b[0;34m.\u001b[0m\u001b[0mchunks\u001b[0m\u001b[0;34m[\u001b[0m\u001b[0;36m0\u001b[0m\u001b[0;34m]\u001b[0m\u001b[0;34m)\u001b[0m\u001b[0;34m\u001b[0m\u001b[0;34m\u001b[0m\u001b[0m\n\u001b[0m\u001b[1;32m    417\u001b[0m         \u001b[0mdi\u001b[0m\u001b[0;34m,\u001b[0m\u001b[0midx\u001b[0m \u001b[0;34m=\u001b[0m \u001b[0mself\u001b[0m\u001b[0;34m.\u001b[0m\u001b[0mdoc_idx\u001b[0m\u001b[0;34m(\u001b[0m\u001b[0mi\u001b[0m\u001b[0;34m)\u001b[0m\u001b[0;34m\u001b[0m\u001b[0;34m\u001b[0m\u001b[0m\n\u001b[1;32m    418\u001b[0m         \u001b[0;32mreturn\u001b[0m \u001b[0mretain_type\u001b[0m\u001b[0;34m(\u001b[0m\u001b[0mself\u001b[0m\u001b[0;34m.\u001b[0m\u001b[0mchunks\u001b[0m\u001b[0;34m[\u001b[0m\u001b[0mdi\u001b[0m\u001b[0;34m]\u001b[0m\u001b[0;34m[\u001b[0m\u001b[0midx\u001b[0m\u001b[0;34m]\u001b[0m\u001b[0;34m,\u001b[0m \u001b[0mold\u001b[0m\u001b[0;34m=\u001b[0m\u001b[0mself\u001b[0m\u001b[0;34m.\u001b[0m\u001b[0mchunks\u001b[0m\u001b[0;34m[\u001b[0m\u001b[0;36m0\u001b[0m\u001b[0;34m]\u001b[0m\u001b[0;34m)\u001b[0m\u001b[0;34m\u001b[0m\u001b[0;34m\u001b[0m\u001b[0m\n",
            "\u001b[0;32m/usr/local/lib/python3.6/dist-packages/fastcore/dispatch.py\u001b[0m in \u001b[0;36mretain_type\u001b[0;34m(new, old, typ, copy_meta)\u001b[0m\n\u001b[1;32m    204\u001b[0m     \u001b[0;31m# Do nothing the new type is already an instance of requested type (i.e. same type)\u001b[0m\u001b[0;34m\u001b[0m\u001b[0;34m\u001b[0m\u001b[0;34m\u001b[0m\u001b[0m\n\u001b[1;32m    205\u001b[0m     \u001b[0;32mif\u001b[0m \u001b[0mtyp\u001b[0m\u001b[0;34m==\u001b[0m\u001b[0mNoneType\u001b[0m \u001b[0;32mor\u001b[0m \u001b[0misinstance\u001b[0m\u001b[0;34m(\u001b[0m\u001b[0mnew\u001b[0m\u001b[0;34m,\u001b[0m \u001b[0mtyp\u001b[0m\u001b[0;34m)\u001b[0m\u001b[0;34m:\u001b[0m \u001b[0;32mreturn\u001b[0m \u001b[0mnew\u001b[0m\u001b[0;34m\u001b[0m\u001b[0;34m\u001b[0m\u001b[0m\n\u001b[0;32m--> 206\u001b[0;31m     \u001b[0;32mreturn\u001b[0m \u001b[0mretain_meta\u001b[0m\u001b[0;34m(\u001b[0m\u001b[0mold\u001b[0m\u001b[0;34m,\u001b[0m \u001b[0mcast\u001b[0m\u001b[0;34m(\u001b[0m\u001b[0mnew\u001b[0m\u001b[0;34m,\u001b[0m \u001b[0mtyp\u001b[0m\u001b[0;34m)\u001b[0m\u001b[0;34m,\u001b[0m \u001b[0mcopy_meta\u001b[0m\u001b[0;34m=\u001b[0m\u001b[0mcopy_meta\u001b[0m\u001b[0;34m)\u001b[0m\u001b[0;34m\u001b[0m\u001b[0;34m\u001b[0m\u001b[0m\n\u001b[0m\u001b[1;32m    207\u001b[0m \u001b[0;34m\u001b[0m\u001b[0m\n\u001b[1;32m    208\u001b[0m \u001b[0;31m# Cell\u001b[0m\u001b[0;34m\u001b[0m\u001b[0;34m\u001b[0m\u001b[0;34m\u001b[0m\u001b[0m\n",
            "\u001b[0;32m/usr/local/lib/python3.6/dist-packages/fastcore/dispatch.py\u001b[0m in \u001b[0;36m__call__\u001b[0;34m(self, *args, **kwargs)\u001b[0m\n\u001b[1;32m    126\u001b[0m         \u001b[0;32melif\u001b[0m \u001b[0mself\u001b[0m\u001b[0;34m.\u001b[0m\u001b[0minst\u001b[0m \u001b[0;32mis\u001b[0m \u001b[0;32mnot\u001b[0m \u001b[0;32mNone\u001b[0m\u001b[0;34m:\u001b[0m \u001b[0mf\u001b[0m \u001b[0;34m=\u001b[0m \u001b[0mMethodType\u001b[0m\u001b[0;34m(\u001b[0m\u001b[0mf\u001b[0m\u001b[0;34m,\u001b[0m \u001b[0mself\u001b[0m\u001b[0;34m.\u001b[0m\u001b[0minst\u001b[0m\u001b[0;34m)\u001b[0m\u001b[0;34m\u001b[0m\u001b[0;34m\u001b[0m\u001b[0m\n\u001b[1;32m    127\u001b[0m         \u001b[0;32melif\u001b[0m \u001b[0mself\u001b[0m\u001b[0;34m.\u001b[0m\u001b[0mowner\u001b[0m \u001b[0;32mis\u001b[0m \u001b[0;32mnot\u001b[0m \u001b[0;32mNone\u001b[0m\u001b[0;34m:\u001b[0m \u001b[0mf\u001b[0m \u001b[0;34m=\u001b[0m \u001b[0mMethodType\u001b[0m\u001b[0;34m(\u001b[0m\u001b[0mf\u001b[0m\u001b[0;34m,\u001b[0m \u001b[0mself\u001b[0m\u001b[0;34m.\u001b[0m\u001b[0mowner\u001b[0m\u001b[0;34m)\u001b[0m\u001b[0;34m\u001b[0m\u001b[0;34m\u001b[0m\u001b[0m\n\u001b[0;32m--> 128\u001b[0;31m         \u001b[0;32mreturn\u001b[0m \u001b[0mf\u001b[0m\u001b[0;34m(\u001b[0m\u001b[0;34m*\u001b[0m\u001b[0margs\u001b[0m\u001b[0;34m,\u001b[0m \u001b[0;34m**\u001b[0m\u001b[0mkwargs\u001b[0m\u001b[0;34m)\u001b[0m\u001b[0;34m\u001b[0m\u001b[0;34m\u001b[0m\u001b[0m\n\u001b[0m\u001b[1;32m    129\u001b[0m \u001b[0;34m\u001b[0m\u001b[0m\n\u001b[1;32m    130\u001b[0m     \u001b[0;32mdef\u001b[0m \u001b[0m__get__\u001b[0m\u001b[0;34m(\u001b[0m\u001b[0mself\u001b[0m\u001b[0;34m,\u001b[0m \u001b[0minst\u001b[0m\u001b[0;34m,\u001b[0m \u001b[0mowner\u001b[0m\u001b[0;34m)\u001b[0m\u001b[0;34m:\u001b[0m\u001b[0;34m\u001b[0m\u001b[0;34m\u001b[0m\u001b[0m\n",
            "\u001b[0;32m/usr/local/lib/python3.6/dist-packages/fastcore/dispatch.py\u001b[0m in \u001b[0;36mcast\u001b[0;34m(x, typ)\u001b[0m\n\u001b[1;32m    187\u001b[0m     \u001b[0mres\u001b[0m \u001b[0;34m=\u001b[0m \u001b[0mtyp\u001b[0m\u001b[0;34m.\u001b[0m\u001b[0m_before_cast\u001b[0m\u001b[0;34m(\u001b[0m\u001b[0mx\u001b[0m\u001b[0;34m)\u001b[0m \u001b[0;32mif\u001b[0m \u001b[0mhasattr\u001b[0m\u001b[0;34m(\u001b[0m\u001b[0mtyp\u001b[0m\u001b[0;34m,\u001b[0m \u001b[0;34m'_before_cast'\u001b[0m\u001b[0;34m)\u001b[0m \u001b[0;32melse\u001b[0m \u001b[0mx\u001b[0m\u001b[0;34m\u001b[0m\u001b[0;34m\u001b[0m\u001b[0m\n\u001b[1;32m    188\u001b[0m     \u001b[0;32mif\u001b[0m \u001b[0misinstance_str\u001b[0m\u001b[0;34m(\u001b[0m\u001b[0mres\u001b[0m\u001b[0;34m,\u001b[0m \u001b[0;34m'ndarray'\u001b[0m\u001b[0;34m)\u001b[0m\u001b[0;34m:\u001b[0m \u001b[0mres\u001b[0m \u001b[0;34m=\u001b[0m \u001b[0mres\u001b[0m\u001b[0;34m.\u001b[0m\u001b[0mview\u001b[0m\u001b[0;34m(\u001b[0m\u001b[0mtyp\u001b[0m\u001b[0;34m)\u001b[0m\u001b[0;34m\u001b[0m\u001b[0;34m\u001b[0m\u001b[0m\n\u001b[0;32m--> 189\u001b[0;31m     \u001b[0;32melif\u001b[0m \u001b[0mhasattr\u001b[0m\u001b[0;34m(\u001b[0m\u001b[0mres\u001b[0m\u001b[0;34m,\u001b[0m \u001b[0;34m'as_subclass'\u001b[0m\u001b[0;34m)\u001b[0m\u001b[0;34m:\u001b[0m \u001b[0mres\u001b[0m \u001b[0;34m=\u001b[0m \u001b[0mres\u001b[0m\u001b[0;34m.\u001b[0m\u001b[0mas_subclass\u001b[0m\u001b[0;34m(\u001b[0m\u001b[0mtyp\u001b[0m\u001b[0;34m)\u001b[0m\u001b[0;34m\u001b[0m\u001b[0;34m\u001b[0m\u001b[0m\n\u001b[0m\u001b[1;32m    190\u001b[0m     \u001b[0;32melse\u001b[0m\u001b[0;34m:\u001b[0m\u001b[0;34m\u001b[0m\u001b[0;34m\u001b[0m\u001b[0m\n\u001b[1;32m    191\u001b[0m         \u001b[0;32mtry\u001b[0m\u001b[0;34m:\u001b[0m \u001b[0mres\u001b[0m\u001b[0;34m.\u001b[0m\u001b[0m__class__\u001b[0m \u001b[0;34m=\u001b[0m \u001b[0mtyp\u001b[0m\u001b[0;34m\u001b[0m\u001b[0;34m\u001b[0m\u001b[0m\n",
            "\u001b[0;32m/usr/local/lib/python3.6/dist-packages/fastai/torch_core.py\u001b[0m in \u001b[0;36mas_subclass\u001b[0;34m(self, typ)\u001b[0m\n\u001b[1;32m    295\u001b[0m \u001b[0;32mdef\u001b[0m \u001b[0mas_subclass\u001b[0m\u001b[0;34m(\u001b[0m\u001b[0mself\u001b[0m\u001b[0;34m:\u001b[0m\u001b[0mTensor\u001b[0m\u001b[0;34m,\u001b[0m \u001b[0mtyp\u001b[0m\u001b[0;34m)\u001b[0m\u001b[0;34m:\u001b[0m\u001b[0;34m\u001b[0m\u001b[0;34m\u001b[0m\u001b[0m\n\u001b[1;32m    296\u001b[0m     \u001b[0;34m\"Cast to `typ` and include `__dict__` and meta\"\u001b[0m\u001b[0;34m\u001b[0m\u001b[0;34m\u001b[0m\u001b[0m\n\u001b[0;32m--> 297\u001b[0;31m     \u001b[0;32mreturn\u001b[0m \u001b[0mretain_meta\u001b[0m\u001b[0;34m(\u001b[0m\u001b[0mself\u001b[0m\u001b[0;34m,\u001b[0m \u001b[0mtorch\u001b[0m\u001b[0;34m.\u001b[0m\u001b[0mas_subclass\u001b[0m\u001b[0;34m(\u001b[0m\u001b[0mself\u001b[0m\u001b[0;34m,\u001b[0m \u001b[0mtyp\u001b[0m\u001b[0;34m)\u001b[0m\u001b[0;34m)\u001b[0m\u001b[0;34m\u001b[0m\u001b[0;34m\u001b[0m\u001b[0m\n\u001b[0m\u001b[1;32m    298\u001b[0m \u001b[0;34m\u001b[0m\u001b[0m\n\u001b[1;32m    299\u001b[0m \u001b[0;31m# Cell\u001b[0m\u001b[0;34m\u001b[0m\u001b[0;34m\u001b[0m\u001b[0;34m\u001b[0m\u001b[0m\n",
            "\u001b[0;31mKeyboardInterrupt\u001b[0m: "
          ]
        }
      ]
    },
    {
      "cell_type": "code",
      "metadata": {
        "id": "K0lRPd4v3i_F"
      },
      "source": [
        "learn.export('model')"
      ],
      "execution_count": null,
      "outputs": []
    },
    {
      "cell_type": "code",
      "metadata": {
        "id": "MhITsvyn3pnm"
      },
      "source": [
        "!cp models/model.pkl /content/drive/My\\ Drive/"
      ],
      "execution_count": null,
      "outputs": []
    },
    {
      "cell_type": "code",
      "metadata": {
        "id": "-exbqst-4Bs5"
      },
      "source": [
        "#!cp /content/drive/My\\ Drive/model.pkl models/model.pkl"
      ],
      "execution_count": null,
      "outputs": []
    },
    {
      "cell_type": "code",
      "metadata": {
        "id": "Kx4JNW2e3-Fp"
      },
      "source": [
        "#learn = load_learner('./models/model.pkl')"
      ],
      "execution_count": null,
      "outputs": []
    },
    {
      "cell_type": "markdown",
      "metadata": {
        "id": "DipoLHGl4cDF"
      },
      "source": [
        " # Classifier"
      ]
    },
    {
      "cell_type": "code",
      "metadata": {
        "id": "erxFBUIe4fgQ"
      },
      "source": [
        ""
      ],
      "execution_count": null,
      "outputs": []
    }
  ]
}