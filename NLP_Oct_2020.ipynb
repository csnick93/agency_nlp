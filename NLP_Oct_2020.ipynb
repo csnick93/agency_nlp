{
  "nbformat": 4,
  "nbformat_minor": 0,
  "metadata": {
    "colab": {
      "name": "NLP Oct 2020",
      "provenance": [],
      "collapsed_sections": [
        "nzlvaZ6Z5Ujy",
        "tESV0Z1S5X1c",
        "pXj-uRre5osG"
      ],
      "authorship_tag": "ABX9TyNQqJAbgSL5lKBAHZK+wzyd",
      "include_colab_link": true
    },
    "kernelspec": {
      "name": "python3",
      "display_name": "Python 3"
    },
    "accelerator": "GPU"
  },
  "cells": [
    {
      "cell_type": "markdown",
      "metadata": {
        "id": "view-in-github",
        "colab_type": "text"
      },
      "source": [
        "<a href=\"https://colab.research.google.com/github/csnick93/agency_nlp/blob/master/NLP_Oct_2020.ipynb\" target=\"_parent\"><img src=\"https://colab.research.google.com/assets/colab-badge.svg\" alt=\"Open In Colab\"/></a>"
      ]
    },
    {
      "cell_type": "code",
      "metadata": {
        "id": "DWulkG4nkXmR",
        "outputId": "f775f194-37b4-45fb-a9d3-7508f8bac2de",
        "colab": {
          "base_uri": "https://localhost:8080/",
          "height": 221
        }
      },
      "source": [
        "!pip install -Uqq fastbook\n",
        "import fastbook\n",
        "fastbook.setup_book()"
      ],
      "execution_count": null,
      "outputs": [
        {
          "output_type": "stream",
          "text": [
            "\u001b[?25l\r\u001b[K     |▌                               | 10kB 24.0MB/s eta 0:00:01\r\u001b[K     |█                               | 20kB 20.7MB/s eta 0:00:01\r\u001b[K     |█▍                              | 30kB 12.0MB/s eta 0:00:01\r\u001b[K     |█▉                              | 40kB 10.9MB/s eta 0:00:01\r\u001b[K     |██▎                             | 51kB 8.5MB/s eta 0:00:01\r\u001b[K     |██▊                             | 61kB 8.6MB/s eta 0:00:01\r\u001b[K     |███▏                            | 71kB 8.8MB/s eta 0:00:01\r\u001b[K     |███▋                            | 81kB 8.3MB/s eta 0:00:01\r\u001b[K     |████                            | 92kB 8.4MB/s eta 0:00:01\r\u001b[K     |████▌                           | 102kB 8.6MB/s eta 0:00:01\r\u001b[K     |█████                           | 112kB 8.6MB/s eta 0:00:01\r\u001b[K     |█████▌                          | 122kB 8.6MB/s eta 0:00:01\r\u001b[K     |██████                          | 133kB 8.6MB/s eta 0:00:01\r\u001b[K     |██████▍                         | 143kB 8.6MB/s eta 0:00:01\r\u001b[K     |██████▉                         | 153kB 8.6MB/s eta 0:00:01\r\u001b[K     |███████▎                        | 163kB 8.6MB/s eta 0:00:01\r\u001b[K     |███████▊                        | 174kB 8.6MB/s eta 0:00:01\r\u001b[K     |████████▏                       | 184kB 8.6MB/s eta 0:00:01\r\u001b[K     |████████▋                       | 194kB 8.6MB/s eta 0:00:01\r\u001b[K     |█████████                       | 204kB 8.6MB/s eta 0:00:01\r\u001b[K     |█████████▋                      | 215kB 8.6MB/s eta 0:00:01\r\u001b[K     |██████████                      | 225kB 8.6MB/s eta 0:00:01\r\u001b[K     |██████████▌                     | 235kB 8.6MB/s eta 0:00:01\r\u001b[K     |███████████                     | 245kB 8.6MB/s eta 0:00:01\r\u001b[K     |███████████▍                    | 256kB 8.6MB/s eta 0:00:01\r\u001b[K     |███████████▉                    | 266kB 8.6MB/s eta 0:00:01\r\u001b[K     |████████████▎                   | 276kB 8.6MB/s eta 0:00:01\r\u001b[K     |████████████▊                   | 286kB 8.6MB/s eta 0:00:01\r\u001b[K     |█████████████▏                  | 296kB 8.6MB/s eta 0:00:01\r\u001b[K     |█████████████▋                  | 307kB 8.6MB/s eta 0:00:01\r\u001b[K     |██████████████▏                 | 317kB 8.6MB/s eta 0:00:01\r\u001b[K     |██████████████▋                 | 327kB 8.6MB/s eta 0:00:01\r\u001b[K     |███████████████                 | 337kB 8.6MB/s eta 0:00:01\r\u001b[K     |███████████████▌                | 348kB 8.6MB/s eta 0:00:01\r\u001b[K     |████████████████                | 358kB 8.6MB/s eta 0:00:01\r\u001b[K     |████████████████▍               | 368kB 8.6MB/s eta 0:00:01\r\u001b[K     |████████████████▉               | 378kB 8.6MB/s eta 0:00:01\r\u001b[K     |█████████████████▎              | 389kB 8.6MB/s eta 0:00:01\r\u001b[K     |█████████████████▊              | 399kB 8.6MB/s eta 0:00:01\r\u001b[K     |██████████████████▏             | 409kB 8.6MB/s eta 0:00:01\r\u001b[K     |██████████████████▊             | 419kB 8.6MB/s eta 0:00:01\r\u001b[K     |███████████████████▏            | 430kB 8.6MB/s eta 0:00:01\r\u001b[K     |███████████████████▋            | 440kB 8.6MB/s eta 0:00:01\r\u001b[K     |████████████████████            | 450kB 8.6MB/s eta 0:00:01\r\u001b[K     |████████████████████▌           | 460kB 8.6MB/s eta 0:00:01\r\u001b[K     |█████████████████████           | 471kB 8.6MB/s eta 0:00:01\r\u001b[K     |█████████████████████▍          | 481kB 8.6MB/s eta 0:00:01\r\u001b[K     |█████████████████████▉          | 491kB 8.6MB/s eta 0:00:01\r\u001b[K     |██████████████████████▎         | 501kB 8.6MB/s eta 0:00:01\r\u001b[K     |██████████████████████▊         | 512kB 8.6MB/s eta 0:00:01\r\u001b[K     |███████████████████████▎        | 522kB 8.6MB/s eta 0:00:01\r\u001b[K     |███████████████████████▊        | 532kB 8.6MB/s eta 0:00:01\r\u001b[K     |████████████████████████▏       | 542kB 8.6MB/s eta 0:00:01\r\u001b[K     |████████████████████████▋       | 552kB 8.6MB/s eta 0:00:01\r\u001b[K     |█████████████████████████       | 563kB 8.6MB/s eta 0:00:01\r\u001b[K     |█████████████████████████▌      | 573kB 8.6MB/s eta 0:00:01\r\u001b[K     |██████████████████████████      | 583kB 8.6MB/s eta 0:00:01\r\u001b[K     |██████████████████████████▍     | 593kB 8.6MB/s eta 0:00:01\r\u001b[K     |██████████████████████████▉     | 604kB 8.6MB/s eta 0:00:01\r\u001b[K     |███████████████████████████▎    | 614kB 8.6MB/s eta 0:00:01\r\u001b[K     |███████████████████████████▉    | 624kB 8.6MB/s eta 0:00:01\r\u001b[K     |████████████████████████████▎   | 634kB 8.6MB/s eta 0:00:01\r\u001b[K     |████████████████████████████▊   | 645kB 8.6MB/s eta 0:00:01\r\u001b[K     |█████████████████████████████▏  | 655kB 8.6MB/s eta 0:00:01\r\u001b[K     |█████████████████████████████▋  | 665kB 8.6MB/s eta 0:00:01\r\u001b[K     |██████████████████████████████  | 675kB 8.6MB/s eta 0:00:01\r\u001b[K     |██████████████████████████████▌ | 686kB 8.6MB/s eta 0:00:01\r\u001b[K     |███████████████████████████████ | 696kB 8.6MB/s eta 0:00:01\r\u001b[K     |███████████████████████████████▍| 706kB 8.6MB/s eta 0:00:01\r\u001b[K     |███████████████████████████████▉| 716kB 8.6MB/s eta 0:00:01\r\u001b[K     |████████████████████████████████| 727kB 8.6MB/s \n",
            "\u001b[K     |████████████████████████████████| 51kB 7.0MB/s \n",
            "\u001b[K     |████████████████████████████████| 51kB 9.3MB/s \n",
            "\u001b[K     |████████████████████████████████| 1.0MB 50.4MB/s \n",
            "\u001b[K     |████████████████████████████████| 194kB 52.7MB/s \n",
            "\u001b[K     |████████████████████████████████| 92kB 11.4MB/s \n",
            "\u001b[K     |████████████████████████████████| 40kB 7.6MB/s \n",
            "\u001b[K     |████████████████████████████████| 51kB 9.1MB/s \n",
            "\u001b[K     |████████████████████████████████| 51kB 9.3MB/s \n",
            "\u001b[K     |████████████████████████████████| 61kB 10.9MB/s \n",
            "\u001b[K     |████████████████████████████████| 2.6MB 53.1MB/s \n",
            "\u001b[?25hMounted at /content/gdrive\n"
          ],
          "name": "stdout"
        }
      ]
    },
    {
      "cell_type": "code",
      "metadata": {
        "id": "57PbwK7bd9jE"
      },
      "source": [
        "import pandas as pd"
      ],
      "execution_count": null,
      "outputs": []
    },
    {
      "cell_type": "markdown",
      "metadata": {
        "id": "-kLpIuUe4ow-"
      },
      "source": [
        "# Mounting Google Drive as File Storage"
      ]
    },
    {
      "cell_type": "code",
      "metadata": {
        "id": "adFkQ6gV0mcj",
        "outputId": "149d38e1-3f9c-4688-d09c-af2be6d67aa5",
        "colab": {
          "base_uri": "https://localhost:8080/",
          "height": 34
        }
      },
      "source": [
        "from google.colab import drive\n",
        "drive.mount('/content/drive')"
      ],
      "execution_count": null,
      "outputs": [
        {
          "output_type": "stream",
          "text": [
            "Mounted at /content/drive\n"
          ],
          "name": "stdout"
        }
      ]
    },
    {
      "cell_type": "code",
      "metadata": {
        "id": "jtGDtCfI0-Ca"
      },
      "source": [
        "data_folder = '/content/drive/My Drive/Colab Notebooks/'"
      ],
      "execution_count": null,
      "outputs": []
    },
    {
      "cell_type": "markdown",
      "metadata": {
        "id": "isFTWt1b4vQk"
      },
      "source": [
        "# Imports"
      ]
    },
    {
      "cell_type": "code",
      "metadata": {
        "id": "StsMFtEhxqwD"
      },
      "source": [
        "from fastai.text import * \n",
        "from fastai.text.all import *"
      ],
      "execution_count": null,
      "outputs": []
    },
    {
      "cell_type": "markdown",
      "metadata": {
        "id": "kGc4NabH46by"
      },
      "source": [
        "# Prepare Data"
      ]
    },
    {
      "cell_type": "code",
      "metadata": {
        "id": "nD-f9et8xqwH",
        "outputId": "35313bab-89a1-4575-8cc8-a8130da1180c",
        "colab": {
          "base_uri": "https://localhost:8080/",
          "height": 17
        }
      },
      "source": [
        "path = untar_data(URLs.IMDB_SAMPLE)"
      ],
      "execution_count": null,
      "outputs": [
        {
          "output_type": "display_data",
          "data": {
            "text/html": [
              ""
            ],
            "text/plain": [
              "<IPython.core.display.HTML object>"
            ]
          },
          "metadata": {
            "tags": []
          }
        }
      ]
    },
    {
      "cell_type": "code",
      "metadata": {
        "id": "P4vs4NzgxqwM",
        "outputId": "b18f4068-5f4a-4a37-c713-9d5e272ef251",
        "colab": {
          "base_uri": "https://localhost:8080/",
          "height": 1000
        }
      },
      "source": [
        "df = pd.read_csv(os.path.join(data_folder,'AgencyHTMLData.csv'))\n",
        "df = df.drop(columns=['Unnamed: 0', 'agency','complete url','Category','y0','keywords'])\n",
        "df.head()"
      ],
      "execution_count": null,
      "outputs": [
        {
          "output_type": "execute_result",
          "data": {
            "text/html": [
              "<div>\n",
              "<style scoped>\n",
              "    .dataframe tbody tr th:only-of-type {\n",
              "        vertical-align: middle;\n",
              "    }\n",
              "\n",
              "    .dataframe tbody tr th {\n",
              "        vertical-align: top;\n",
              "    }\n",
              "\n",
              "    .dataframe thead th {\n",
              "        text-align: right;\n",
              "    }\n",
              "</style>\n",
              "<table border=\"1\" class=\"dataframe\">\n",
              "  <thead>\n",
              "    <tr style=\"text-align: right;\">\n",
              "      <th></th>\n",
              "      <th>domain</th>\n",
              "      <th>check</th>\n",
              "      <th>html_code</th>\n",
              "      <th>text_from_html</th>\n",
              "    </tr>\n",
              "  </thead>\n",
              "  <tbody>\n",
              "    <tr>\n",
              "      <th>0</th>\n",
              "      <td>ruckusmarketing.com</td>\n",
              "      <td>y</td>\n",
              "      <td>b'&lt;!doctype html&gt;\\n&lt;html lang=\"en-US\"&gt;\\n\\n&lt;head&gt;\\n  &lt;meta http-equiv=\"X-UA-Compatible\" content=\"IE=edge\"&gt;\\n  &lt;meta charset=\"UTF-8\"&gt;\\n  &lt;meta name=\"viewport\" content=\"width=device-width, initial-scale=1\"&gt;\\n  &lt;link rel=\"profile\" href=\"https://gmpg.org/xfn/11\"&gt;\\n  &lt;title&gt;Ruckus &amp;ndash; Top NY Advertising &amp;amp; Digital Agency&lt;/title&gt;\\n\\n&lt;!-- This site is optimized with the Yoast SEO plugin v13.4.1 - https://yoast.com/wordpress/plugins/seo/ --&gt;\\n&lt;meta name=\"description\" content=\"Ruckus is a full-service digital agency specializing in web design, app development, branding &amp;amp; interactive marke...</td>\n",
              "      <td>ruckus top ny advertising digital agency work services about news careers contact got a project tell us everything info ruckusco com let s talk a business minded agency creative powerhouse a masterful team that executes every engagement with precision prowess and power disruption is in our dna check out our work ces disruption the mobileye exhibition by ruckus took ces by storm garnering international attention see what we did farms baby goats and skincare success beekman re platforms to shopify plus and launches a new skincare focused ecommerce experience see what we did performance is e...</td>\n",
              "    </tr>\n",
              "    <tr>\n",
              "      <th>1</th>\n",
              "      <td>tenetpartners.com</td>\n",
              "      <td>y</td>\n",
              "      <td>b'&lt;!DOCTYPE html&gt;&lt;html lang=\"en\" class=\"no-js home\"&gt;&lt;head&gt;&lt;meta charset=\"utf-8\"&gt;&lt;title&gt;Tenet Partners | Where brand meets innovation&amp;reg;&lt;/title&gt;&lt;meta name=\"twitter:card\" content=\"summary\"&gt;&lt;meta name=\"twitter:site\" content=\"@tenetpartners\"&gt;&lt;meta name=\"twitter:title\" content=\"Tenet Partners | Where brand meets innovation&amp;reg;\"&gt;&lt;meta property=\"og:site_name\" content=\"Tenet Partners\"&gt;&lt;meta property=\"og:title\" content=\"Tenet Partners | Where brand meets innovation&amp;reg;\"&gt;&lt;link rel=\"canonical\" href=\"https://tenetpartners.com/\"&gt;&lt;meta name=\"twitter:url\" content=\"https://tenetpartners.com/\"&gt;&lt;meta pr...</td>\n",
              "      <td>tenet partners where brand meets innovation tenet partners menu contentswhat we doour workour insightsnewsabout uscontact where brand meets innovation see how we can help youtenet partners transforms customer experiences and drives growth by fusing innovation and brand distinct disciplines integrally linkedbranding expresses what an entire organization stands for across all aspects of its business innovation delivers new signature experiences through design to meet consumer needs we connect branding and innovation to create value for you and your customers our work case studyapm terminalsr...</td>\n",
              "    </tr>\n",
              "    <tr>\n",
              "      <th>2</th>\n",
              "      <td>brandtuitive.com</td>\n",
              "      <td>y</td>\n",
              "      <td>b'&lt;!doctype html&gt;\\n&lt;html xmlns:og=\"http://opengraphprotocol.org/schema/\" xmlns:fb=\"http://www.facebook.com/2008/fbml\" lang=\"en-US\"  class=\"touch-styles\"&gt;\\n  &lt;head&gt;\\n    &lt;meta http-equiv=\"X-UA-Compatible\" content=\"IE=edge,chrome=1\"&gt;\\n    \\n    &lt;meta name=\"viewport\" content=\"width=device-width, initial-scale=1\"&gt;\\n    \\n    &lt;!-- This is Squarespace. --&gt;&lt;!-- brandtuitive --&gt;\\n&lt;base href=\"\"&gt;\\n&lt;meta charset=\"utf-8\" /&gt;\\n&lt;title&gt;BrandTuitive | Top Branding &amp;amp; Brand Marketing Agency in NYC&lt;/title&gt;\\n&lt;link rel=\"shortcut icon\" type=\"image/x-icon\" href=\"https://images.squarespace-cdn.com/content/v1/5...</td>\n",
              "      <td>brandtuitive top branding brand marketing agency in nyc branding brand marketing work sharing the love contact branding brand marketing work sharing the love contact we don t create brands we reveal them we don t make anything up whether you re a well established company or a brand new start up the truth is you re bringing something great to the world let us reveal your greatness and build your business through a perfect storm of smart strategy and beautiful design branding brand marketing is your brand the star of your customers movie in the mind movie in the mind people think in picture...</td>\n",
              "    </tr>\n",
              "    <tr>\n",
              "      <th>3</th>\n",
              "      <td>venthio.com</td>\n",
              "      <td>y</td>\n",
              "      <td>b'&lt;!doctype html&gt;\\n&lt;html lang=\"en-US\" prefix=\"og: http://ogp.me/ns#\"&gt;\\n&lt;head&gt;\\n    &lt;meta charset=\"UTF-8\"&gt;\\n    &lt;meta name=\"viewport\" content=\"width=device-width, initial-scale=1\"&gt;\\n    &lt;link rel=\"profile\" href=\"https://gmpg.org/xfn/11\"&gt;\\n\\n    &lt;title&gt;Home | Venthio: Building Brands, Businesses, &amp;amp; Bottom-lines&lt;/title&gt;\\n\\n&lt;!-- This site is optimized with the Yoast SEO plugin v9.0.3 - https://yoast.com/wordpress/plugins/seo/ --&gt;\\n&lt;meta name=\"description\" content=\"At Venthio, our brands are built on 3 principles: Insight, Intelligence, &amp;amp; Design. We filter every direction and decision t...</td>\n",
              "      <td>home venthio building brands businesses bottom lines home agency work crew careers connect connect venthio com videos menu venthio building brands businesses bottom lines work contact stand outbrandsare built on principles clarifying your customer s needs perceptions and motivations as well as competitive and economic realities in existing and or new markets insight applying thinking to discover and develop the big idea or core purpose that drives customer acquisition activation and brand value intelligence bringing a clear sensible plan to create or develop the brand platform and generat...</td>\n",
              "    </tr>\n",
              "    <tr>\n",
              "      <th>4</th>\n",
              "      <td>wantbranding.com</td>\n",
              "      <td>y</td>\n",
              "      <td>b'&lt;!DOCTYPE html&gt;\\n&lt;html lang=\"en-US\" itemscope itemtype=\"http://schema.org/WebPage\"&gt;\\n&lt;head&gt;\\n&lt;meta charset=\"UTF-8\"&gt;\\n&lt;link rel=\"profile\" href=\"http://gmpg.org/xfn/11\"&gt;\\n&lt;meta name=\"viewport\" content=\"width=device-width, initial-scale=1\"&gt;\\r\\n&lt;meta http-equiv=\"X-UA-Compatible\" content=\"IE=edge\" /&gt;\\r\\n&lt;meta name=\"generator\" content=\"Total WordPress Theme 4.9.9.2\" /&gt;\\r\\n\\n\\t&lt;!-- This site is optimized with the Yoast SEO plugin v15.1.1 - https://yoast.com/wordpress/plugins/seo/ --&gt;\\n\\t&lt;title&gt;Home - wantbranding&lt;/title&gt;\\n\\t&lt;meta name=\"description\" content=\"WANT\\xe2\\x84\\xa2 is one of America\\xe...</td>\n",
              "      <td>home wantbranding skip to main content let s talk work about news let s talk clutch top ranked brand agency in the usclutch top ranked brand agency in the uswe create brands that demand attention deliver performance and help you win want is one of america s leading branding agencies we deliver world class brand strategy brand naming and brand identity solutions for companies who want to unlock the power and value of their brands for years we ve helped more than companies create powerful and memorable brands that delight customers outflank the competition and achieve extraordinary business...</td>\n",
              "    </tr>\n",
              "  </tbody>\n",
              "</table>\n",
              "</div>"
            ],
            "text/plain": [
              "                domain check  \\\n",
              "0  ruckusmarketing.com     y   \n",
              "1    tenetpartners.com     y   \n",
              "2     brandtuitive.com     y   \n",
              "3          venthio.com     y   \n",
              "4     wantbranding.com     y   \n",
              "\n",
              "                                                                                                                                                                                                                                                                                                                                                                                                                                                                                                                                                                                                                 html_code  \\\n",
              "0  b'<!doctype html>\\n<html lang=\"en-US\">\\n\\n<head>\\n  <meta http-equiv=\"X-UA-Compatible\" content=\"IE=edge\">\\n  <meta charset=\"UTF-8\">\\n  <meta name=\"viewport\" content=\"width=device-width, initial-scale=1\">\\n  <link rel=\"profile\" href=\"https://gmpg.org/xfn/11\">\\n  <title>Ruckus &ndash; Top NY Advertising &amp; Digital Agency</title>\\n\\n<!-- This site is optimized with the Yoast SEO plugin v13.4.1 - https://yoast.com/wordpress/plugins/seo/ -->\\n<meta name=\"description\" content=\"Ruckus is a full-service digital agency specializing in web design, app development, branding &amp; interactive marke...   \n",
              "1  b'<!DOCTYPE html><html lang=\"en\" class=\"no-js home\"><head><meta charset=\"utf-8\"><title>Tenet Partners | Where brand meets innovation&reg;</title><meta name=\"twitter:card\" content=\"summary\"><meta name=\"twitter:site\" content=\"@tenetpartners\"><meta name=\"twitter:title\" content=\"Tenet Partners | Where brand meets innovation&reg;\"><meta property=\"og:site_name\" content=\"Tenet Partners\"><meta property=\"og:title\" content=\"Tenet Partners | Where brand meets innovation&reg;\"><link rel=\"canonical\" href=\"https://tenetpartners.com/\"><meta name=\"twitter:url\" content=\"https://tenetpartners.com/\"><meta pr...   \n",
              "2  b'<!doctype html>\\n<html xmlns:og=\"http://opengraphprotocol.org/schema/\" xmlns:fb=\"http://www.facebook.com/2008/fbml\" lang=\"en-US\"  class=\"touch-styles\">\\n  <head>\\n    <meta http-equiv=\"X-UA-Compatible\" content=\"IE=edge,chrome=1\">\\n    \\n    <meta name=\"viewport\" content=\"width=device-width, initial-scale=1\">\\n    \\n    <!-- This is Squarespace. --><!-- brandtuitive -->\\n<base href=\"\">\\n<meta charset=\"utf-8\" />\\n<title>BrandTuitive | Top Branding &amp; Brand Marketing Agency in NYC</title>\\n<link rel=\"shortcut icon\" type=\"image/x-icon\" href=\"https://images.squarespace-cdn.com/content/v1/5...   \n",
              "3  b'<!doctype html>\\n<html lang=\"en-US\" prefix=\"og: http://ogp.me/ns#\">\\n<head>\\n    <meta charset=\"UTF-8\">\\n    <meta name=\"viewport\" content=\"width=device-width, initial-scale=1\">\\n    <link rel=\"profile\" href=\"https://gmpg.org/xfn/11\">\\n\\n    <title>Home | Venthio: Building Brands, Businesses, &amp; Bottom-lines</title>\\n\\n<!-- This site is optimized with the Yoast SEO plugin v9.0.3 - https://yoast.com/wordpress/plugins/seo/ -->\\n<meta name=\"description\" content=\"At Venthio, our brands are built on 3 principles: Insight, Intelligence, &amp; Design. We filter every direction and decision t...   \n",
              "4  b'<!DOCTYPE html>\\n<html lang=\"en-US\" itemscope itemtype=\"http://schema.org/WebPage\">\\n<head>\\n<meta charset=\"UTF-8\">\\n<link rel=\"profile\" href=\"http://gmpg.org/xfn/11\">\\n<meta name=\"viewport\" content=\"width=device-width, initial-scale=1\">\\r\\n<meta http-equiv=\"X-UA-Compatible\" content=\"IE=edge\" />\\r\\n<meta name=\"generator\" content=\"Total WordPress Theme 4.9.9.2\" />\\r\\n\\n\\t<!-- This site is optimized with the Yoast SEO plugin v15.1.1 - https://yoast.com/wordpress/plugins/seo/ -->\\n\\t<title>Home - wantbranding</title>\\n\\t<meta name=\"description\" content=\"WANT\\xe2\\x84\\xa2 is one of America\\xe...   \n",
              "\n",
              "                                                                                                                                                                                                                                                                                                                                                                                                                                                                                                                                                                                                            text_from_html  \n",
              "0   ruckus top ny advertising digital agency work services about news careers contact got a project tell us everything info ruckusco com let s talk a business minded agency creative powerhouse a masterful team that executes every engagement with precision prowess and power disruption is in our dna check out our work ces disruption the mobileye exhibition by ruckus took ces by storm garnering international attention see what we did farms baby goats and skincare success beekman re platforms to shopify plus and launches a new skincare focused ecommerce experience see what we did performance is e...  \n",
              "1  tenet partners where brand meets innovation tenet partners menu contentswhat we doour workour insightsnewsabout uscontact where brand meets innovation see how we can help youtenet partners transforms customer experiences and drives growth by fusing innovation and brand distinct disciplines integrally linkedbranding expresses what an entire organization stands for across all aspects of its business innovation delivers new signature experiences through design to meet consumer needs we connect branding and innovation to create value for you and your customers our work case studyapm terminalsr...  \n",
              "2   brandtuitive top branding brand marketing agency in nyc branding brand marketing work sharing the love contact branding brand marketing work sharing the love contact we don t create brands we reveal them we don t make anything up whether you re a well established company or a brand new start up the truth is you re bringing something great to the world let us reveal your greatness and build your business through a perfect storm of smart strategy and beautiful design branding brand marketing is your brand the star of your customers movie in the mind movie in the mind people think in picture...  \n",
              "3   home venthio building brands businesses bottom lines home agency work crew careers connect connect venthio com videos menu venthio building brands businesses bottom lines work contact stand outbrandsare built on principles clarifying your customer s needs perceptions and motivations as well as competitive and economic realities in existing and or new markets insight applying thinking to discover and develop the big idea or core purpose that drives customer acquisition activation and brand value intelligence bringing a clear sensible plan to create or develop the brand platform and generat...  \n",
              "4   home wantbranding skip to main content let s talk work about news let s talk clutch top ranked brand agency in the usclutch top ranked brand agency in the uswe create brands that demand attention deliver performance and help you win want is one of america s leading branding agencies we deliver world class brand strategy brand naming and brand identity solutions for companies who want to unlock the power and value of their brands for years we ve helped more than companies create powerful and memorable brands that delight customers outflank the competition and achieve extraordinary business...  "
            ]
          },
          "metadata": {
            "tags": []
          },
          "execution_count": 74
        }
      ]
    },
    {
      "cell_type": "code",
      "metadata": {
        "id": "pmk8KkAyj2Fu"
      },
      "source": [
        "txt = ''\n",
        "for i,row in df.iterrows():\n",
        "  txt = txt + ' ' + row['text_from_html']\n"
      ],
      "execution_count": null,
      "outputs": []
    },
    {
      "cell_type": "code",
      "metadata": {
        "id": "7k8-sY_RkD8C",
        "outputId": "d18c3749-ab1a-4807-cef1-78ef3b92091d",
        "colab": {
          "base_uri": "https://localhost:8080/",
          "height": 34
        }
      },
      "source": [
        "len(txt)"
      ],
      "execution_count": null,
      "outputs": [
        {
          "output_type": "execute_result",
          "data": {
            "text/plain": [
              "4202436"
            ]
          },
          "metadata": {
            "tags": []
          },
          "execution_count": 76
        }
      ]
    },
    {
      "cell_type": "code",
      "metadata": {
        "id": "_WNVu2wqkRPz",
        "outputId": "428ff661-d2dd-4428-9cd9-f4ff5bd66cde",
        "colab": {
          "base_uri": "https://localhost:8080/",
          "height": 54
        }
      },
      "source": [
        "spacy = WordTokenizer()\n",
        "#toks = first(spacy([txt]))\n",
        "#print(coll_repr(toks, 30))"
      ],
      "execution_count": null,
      "outputs": [
        {
          "output_type": "stream",
          "text": [
            "(#633063) ['  ','ruckus','top','ny','advertising','digital','agency','work','services','about','news','careers','contact','got','a','project','tell','us','everything','info','ruckusco','com','let','s','talk','a','business','minded','agency','creative'...]\n"
          ],
          "name": "stdout"
        }
      ]
    },
    {
      "cell_type": "code",
      "metadata": {
        "id": "uIFEhptdkchM"
      },
      "source": [
        "tkn = Tokenizer(spacy)\n",
        "#print(coll_repr(tkn(txt), 31))"
      ],
      "execution_count": null,
      "outputs": []
    },
    {
      "cell_type": "code",
      "metadata": {
        "id": "CXqUhPuTkcqd"
      },
      "source": [
        "toks = tkn(txt)\n",
        "#print(coll_repr(tkn(txt), 31))"
      ],
      "execution_count": null,
      "outputs": []
    },
    {
      "cell_type": "code",
      "metadata": {
        "id": "L5l7GERenUjO"
      },
      "source": [
        "txts = L(el for el in df['text_from_html'])"
      ],
      "execution_count": null,
      "outputs": []
    },
    {
      "cell_type": "code",
      "metadata": {
        "id": "_01_xHP0kcuH",
        "outputId": "e393ca59-cd00-4d65-a8af-6f491903e209",
        "colab": {
          "base_uri": "https://localhost:8080/",
          "height": 54
        }
      },
      "source": [
        "toks_z = txts.map(tkn)\n",
        "toks_z[1]"
      ],
      "execution_count": null,
      "outputs": [
        {
          "output_type": "execute_result",
          "data": {
            "text/plain": [
              "(#327) ['xxbos','tenet','partners','where','brand','meets','innovation','tenet','partners','menu'...]"
            ]
          },
          "metadata": {
            "tags": []
          },
          "execution_count": 115
        }
      ]
    },
    {
      "cell_type": "code",
      "metadata": {
        "id": "Z0bVCYwClkwu",
        "outputId": "1637822c-0a31-4920-c6ce-b763da2039a4",
        "colab": {
          "base_uri": "https://localhost:8080/",
          "height": 54
        }
      },
      "source": [
        "toks"
      ],
      "execution_count": null,
      "outputs": [
        {
          "output_type": "execute_result",
          "data": {
            "text/plain": [
              "(#632833) ['xxbos','ruckus','top','ny','advertising','digital','agency','work','services','about'...]"
            ]
          },
          "metadata": {
            "tags": []
          },
          "execution_count": 118
        }
      ]
    },
    {
      "cell_type": "code",
      "metadata": {
        "id": "LAFyCVqjkc34",
        "outputId": "83a21739-fd9b-4b80-c9f5-fac981bf7d0f",
        "colab": {
          "base_uri": "https://localhost:8080/",
          "height": 52
        }
      },
      "source": [
        "num = Numericalize()\n",
        "num.setup(toks_z)\n",
        "coll_repr(num.vocab)"
      ],
      "execution_count": null,
      "outputs": [
        {
          "output_type": "execute_result",
          "data": {
            "application/vnd.google.colaboratory.intrinsic+json": {
              "type": "string"
            },
            "text/plain": [
              "\"(#14008) ['xxunk','xxpad','xxbos','xxeos','xxfld','xxrep','xxwrep','xxup','xxmaj','and'...]\""
            ]
          },
          "metadata": {
            "tags": []
          },
          "execution_count": 119
        }
      ]
    },
    {
      "cell_type": "code",
      "metadata": {
        "id": "7KeEjoDRkpbh"
      },
      "source": [
        "num.vocab"
      ],
      "execution_count": null,
      "outputs": []
    },
    {
      "cell_type": "markdown",
      "metadata": {
        "id": "llMaNdvXqCsO"
      },
      "source": [
        "1.1.5  Putting Our Texts into Batches for a Language Model\n"
      ]
    },
    {
      "cell_type": "code",
      "metadata": {
        "id": "rC8iwVXgkc8J"
      },
      "source": [
        "nums200 = toks200.map(num)"
      ],
      "execution_count": null,
      "outputs": []
    },
    {
      "cell_type": "code",
      "metadata": {
        "id": "G0F33Z4bqdm9"
      },
      "source": [
        "dl = LMDataLoader(nums200)"
      ],
      "execution_count": null,
      "outputs": []
    },
    {
      "cell_type": "code",
      "metadata": {
        "id": "zweR-bo3qdqV",
        "outputId": "93159e9b-e11e-4236-96d5-df5204d21b9a",
        "colab": {
          "base_uri": "https://localhost:8080/",
          "height": 34
        }
      },
      "source": [
        "x,y = first(dl)\n",
        "x.shape,y.shape"
      ],
      "execution_count": null,
      "outputs": [
        {
          "output_type": "execute_result",
          "data": {
            "text/plain": [
              "(torch.Size([64, 72]), torch.Size([64, 72]))"
            ]
          },
          "metadata": {
            "tags": []
          },
          "execution_count": 19
        }
      ]
    },
    {
      "cell_type": "code",
      "metadata": {
        "id": "m91aMDxpqdwh",
        "outputId": "054ea556-aa07-4006-acb8-b8f82afc3780",
        "colab": {
          "base_uri": "https://localhost:8080/",
          "height": 52
        }
      },
      "source": [
        "' '.join(num.vocab[o] for o in x[0][:20])"
      ],
      "execution_count": null,
      "outputs": [
        {
          "output_type": "execute_result",
          "data": {
            "application/vnd.google.colaboratory.intrinsic+json": {
              "type": "string"
            },
            "text/plain": [
              "'xxbos ruckus top ny advertising digital agency work services about news careers contact got a project tell us everything info'"
            ]
          },
          "metadata": {
            "tags": []
          },
          "execution_count": 20
        }
      ]
    },
    {
      "cell_type": "code",
      "metadata": {
        "id": "VMn3EHwXkcx9",
        "outputId": "390ae0e2-a62e-47bd-dcd4-1ca5ae8a7055",
        "colab": {
          "base_uri": "https://localhost:8080/",
          "height": 52
        }
      },
      "source": [
        "' '.join(num.vocab[o] for o in y[0][:20])"
      ],
      "execution_count": null,
      "outputs": [
        {
          "output_type": "execute_result",
          "data": {
            "application/vnd.google.colaboratory.intrinsic+json": {
              "type": "string"
            },
            "text/plain": [
              "'ruckus top ny advertising digital agency work services about news careers contact got a project tell us everything info xxunk'"
            ]
          },
          "metadata": {
            "tags": []
          },
          "execution_count": 21
        }
      ]
    },
    {
      "cell_type": "code",
      "metadata": {
        "id": "7QKH_7Cdqs9r"
      },
      "source": [
        "import fastai"
      ],
      "execution_count": null,
      "outputs": []
    },
    {
      "cell_type": "markdown",
      "metadata": {
        "id": "6hKPluonq1nP"
      },
      "source": [
        "Training a Text Classifier"
      ]
    },
    {
      "cell_type": "code",
      "metadata": {
        "id": "0t76tGhTd-zP"
      },
      "source": [
        "!pip install nbdev"
      ],
      "execution_count": null,
      "outputs": []
    },
    {
      "cell_type": "code",
      "metadata": {
        "id": "4-W8VlsDrhmx"
      },
      "source": [
        "path = os.path.join(data_folder,'agency_htmls')"
      ],
      "execution_count": 145,
      "outputs": []
    },
    {
      "cell_type": "code",
      "metadata": {
        "id": "W_ZZwRlIqtOs",
        "outputId": "6fdf1d75-1e5c-410c-da6d-43d5f823e3ec",
        "colab": {
          "base_uri": "https://localhost:8080/",
          "height": 17
        }
      },
      "source": [
        "get_htmls = partial(get_text_files, folders=['yes','no'])\n",
        "\n",
        "dls_lm = DataBlock(\n",
        "    blocks=TextBlock.from_folder(path, is_lm=True),\n",
        "    get_items=get_htmls, splitter=RandomSplitter(0.1)\n",
        ").dataloaders(path, path=path, bs=128, seq_len=80)"
      ],
      "execution_count": 152,
      "outputs": [
        {
          "output_type": "display_data",
          "data": {
            "text/html": [
              ""
            ],
            "text/plain": [
              "<IPython.core.display.HTML object>"
            ]
          },
          "metadata": {
            "tags": []
          }
        }
      ]
    },
    {
      "cell_type": "code",
      "metadata": {
        "id": "Y8xxjB4aqtTb",
        "outputId": "30e92090-52ff-43f1-f01b-2d279427848a",
        "colab": {
          "base_uri": "https://localhost:8080/",
          "height": 417
        }
      },
      "source": [
        "dls_lm.show_batch(max_n=2)"
      ],
      "execution_count": 153,
      "outputs": [
        {
          "output_type": "display_data",
          "data": {
            "text/html": [
              "<table border=\"1\" class=\"dataframe\">\n",
              "  <thead>\n",
              "    <tr style=\"text-align: right;\">\n",
              "      <th></th>\n",
              "      <th>text</th>\n",
              "      <th>text_</th>\n",
              "    </tr>\n",
              "  </thead>\n",
              "  <tbody>\n",
              "    <tr>\n",
              "      <th>0</th>\n",
              "      <td>xxbos not acceptable not acceptable an appropriate representation of the requested resource could not be found on this server this error was generated by mod security xxbos welcome manifesto xxunk pdx branding strategy amazon xxunk more than just packages for amazon flex view case xxunk we arewe are a courage led brand agency we rally humans around the heart and soul of the world s most ambitious brands meet us what we dowe use human insights to unlock brand truths</td>\n",
              "      <td>not acceptable not acceptable an appropriate representation of the requested resource could not be found on this server this error was generated by mod security xxbos welcome manifesto xxunk pdx branding strategy amazon xxunk more than just packages for amazon flex view case xxunk we arewe are a courage led brand agency we rally humans around the heart and soul of the world s most ambitious brands meet us what we dowe use human insights to unlock brand truths whether</td>\n",
              "    </tr>\n",
              "    <tr>\n",
              "      <th>1</th>\n",
              "      <td>retail design bar xxunk recent brands branding branding marketing digital transformation canadian tire motorsport park see more brands brand transformation our purpose as a firm is to create positive transformation for people communities and companies through design we work with leaders to shape better cities stronger communities and more agile organizations we invest in the communities where we work bring people together and challenge the status quo we counsel companies on their corporate purpose and improve their reputation among consumers</td>\n",
              "      <td>design bar xxunk recent brands branding branding marketing digital transformation canadian tire motorsport park see more brands brand transformation our purpose as a firm is to create positive transformation for people communities and companies through design we work with leaders to shape better cities stronger communities and more agile organizations we invest in the communities where we work bring people together and challenge the status quo we counsel companies on their corporate purpose and improve their reputation among consumers and</td>\n",
              "    </tr>\n",
              "  </tbody>\n",
              "</table>"
            ],
            "text/plain": [
              "<IPython.core.display.HTML object>"
            ]
          },
          "metadata": {
            "tags": []
          }
        }
      ]
    },
    {
      "cell_type": "markdown",
      "metadata": {
        "id": "hrE3KJ8ew-cL"
      },
      "source": [
        "1.2.2  Fine-Tuning the Language Model"
      ]
    },
    {
      "cell_type": "code",
      "metadata": {
        "id": "Q87QnEWlqtGe",
        "outputId": "defee301-7530-48a2-a049-b02471d51380",
        "colab": {
          "base_uri": "https://localhost:8080/",
          "height": 17
        }
      },
      "source": [
        "learn = language_model_learner(\n",
        "    dls_lm, AWD_LSTM, drop_mult=0.3, \n",
        "    metrics=[accuracy, error_rate, Perplexity()]).to_fp16()"
      ],
      "execution_count": 154,
      "outputs": [
        {
          "output_type": "display_data",
          "data": {
            "text/html": [
              ""
            ],
            "text/plain": [
              "<IPython.core.display.HTML object>"
            ]
          },
          "metadata": {
            "tags": []
          }
        }
      ]
    },
    {
      "cell_type": "code",
      "metadata": {
        "id": "tie8sa2QqtD2",
        "outputId": "722b4d84-442f-4444-f641-3ea00f5a09bf",
        "colab": {
          "base_uri": "https://localhost:8080/",
          "height": 80
        }
      },
      "source": [
        "learn.fit_one_cycle(1, 2e-2)"
      ],
      "execution_count": 155,
      "outputs": [
        {
          "output_type": "display_data",
          "data": {
            "text/html": [
              "<table border=\"1\" class=\"dataframe\">\n",
              "  <thead>\n",
              "    <tr style=\"text-align: left;\">\n",
              "      <th>epoch</th>\n",
              "      <th>train_loss</th>\n",
              "      <th>valid_loss</th>\n",
              "      <th>accuracy</th>\n",
              "      <th>error_rate</th>\n",
              "      <th>perplexity</th>\n",
              "      <th>time</th>\n",
              "    </tr>\n",
              "  </thead>\n",
              "  <tbody>\n",
              "    <tr>\n",
              "      <td>0</td>\n",
              "      <td>5.882526</td>\n",
              "      <td>5.864678</td>\n",
              "      <td>0.160813</td>\n",
              "      <td>0.839187</td>\n",
              "      <td>352.368652</td>\n",
              "      <td>00:25</td>\n",
              "    </tr>\n",
              "  </tbody>\n",
              "</table>"
            ],
            "text/plain": [
              "<IPython.core.display.HTML object>"
            ]
          },
          "metadata": {
            "tags": []
          }
        }
      ]
    },
    {
      "cell_type": "code",
      "metadata": {
        "id": "lO0UhbriqtBX",
        "outputId": "05a0cd38-c042-4c98-88d0-d0c2cbfd76ee",
        "colab": {
          "base_uri": "https://localhost:8080/",
          "height": 34
        }
      },
      "source": [
        "learn.save('1epoch')"
      ],
      "execution_count": 157,
      "outputs": [
        {
          "output_type": "execute_result",
          "data": {
            "text/plain": [
              "Path('/content/drive/My Drive/Colab Notebooks/agency_htmls/models/1epoch.pth')"
            ]
          },
          "metadata": {
            "tags": []
          },
          "execution_count": 157
        }
      ]
    },
    {
      "cell_type": "code",
      "metadata": {
        "id": "XpDA15BvxqwU",
        "outputId": "c6d36abc-d343-4afb-b5e2-2e02e591a076",
        "colab": {
          "base_uri": "https://localhost:8080/",
          "height": 359
        }
      },
      "source": [
        "learn.unfreeze()\n",
        "learn.fit_one_cycle(10, 2e-3)"
      ],
      "execution_count": 158,
      "outputs": [
        {
          "output_type": "display_data",
          "data": {
            "text/html": [
              "<table border=\"1\" class=\"dataframe\">\n",
              "  <thead>\n",
              "    <tr style=\"text-align: left;\">\n",
              "      <th>epoch</th>\n",
              "      <th>train_loss</th>\n",
              "      <th>valid_loss</th>\n",
              "      <th>accuracy</th>\n",
              "      <th>error_rate</th>\n",
              "      <th>perplexity</th>\n",
              "      <th>time</th>\n",
              "    </tr>\n",
              "  </thead>\n",
              "  <tbody>\n",
              "    <tr>\n",
              "      <td>0</td>\n",
              "      <td>5.159214</td>\n",
              "      <td>5.726497</td>\n",
              "      <td>0.172371</td>\n",
              "      <td>0.827629</td>\n",
              "      <td>306.892395</td>\n",
              "      <td>00:26</td>\n",
              "    </tr>\n",
              "    <tr>\n",
              "      <td>1</td>\n",
              "      <td>4.999994</td>\n",
              "      <td>5.559961</td>\n",
              "      <td>0.189659</td>\n",
              "      <td>0.810341</td>\n",
              "      <td>259.812775</td>\n",
              "      <td>00:26</td>\n",
              "    </tr>\n",
              "    <tr>\n",
              "      <td>2</td>\n",
              "      <td>4.747009</td>\n",
              "      <td>5.472052</td>\n",
              "      <td>0.204067</td>\n",
              "      <td>0.795933</td>\n",
              "      <td>237.947876</td>\n",
              "      <td>00:26</td>\n",
              "    </tr>\n",
              "    <tr>\n",
              "      <td>3</td>\n",
              "      <td>4.445484</td>\n",
              "      <td>5.405042</td>\n",
              "      <td>0.214030</td>\n",
              "      <td>0.785970</td>\n",
              "      <td>222.525604</td>\n",
              "      <td>00:26</td>\n",
              "    </tr>\n",
              "    <tr>\n",
              "      <td>4</td>\n",
              "      <td>4.110833</td>\n",
              "      <td>5.441840</td>\n",
              "      <td>0.221518</td>\n",
              "      <td>0.778482</td>\n",
              "      <td>230.866516</td>\n",
              "      <td>00:27</td>\n",
              "    </tr>\n",
              "    <tr>\n",
              "      <td>5</td>\n",
              "      <td>3.788379</td>\n",
              "      <td>5.504893</td>\n",
              "      <td>0.224120</td>\n",
              "      <td>0.775880</td>\n",
              "      <td>245.892105</td>\n",
              "      <td>00:26</td>\n",
              "    </tr>\n",
              "    <tr>\n",
              "      <td>6</td>\n",
              "      <td>3.501613</td>\n",
              "      <td>5.523038</td>\n",
              "      <td>0.230014</td>\n",
              "      <td>0.769987</td>\n",
              "      <td>250.394684</td>\n",
              "      <td>00:26</td>\n",
              "    </tr>\n",
              "    <tr>\n",
              "      <td>7</td>\n",
              "      <td>3.279128</td>\n",
              "      <td>5.600660</td>\n",
              "      <td>0.231021</td>\n",
              "      <td>0.768979</td>\n",
              "      <td>270.604919</td>\n",
              "      <td>00:26</td>\n",
              "    </tr>\n",
              "    <tr>\n",
              "      <td>8</td>\n",
              "      <td>3.117042</td>\n",
              "      <td>5.630593</td>\n",
              "      <td>0.231277</td>\n",
              "      <td>0.768723</td>\n",
              "      <td>278.827484</td>\n",
              "      <td>00:26</td>\n",
              "    </tr>\n",
              "    <tr>\n",
              "      <td>9</td>\n",
              "      <td>3.019911</td>\n",
              "      <td>5.642863</td>\n",
              "      <td>0.231251</td>\n",
              "      <td>0.768749</td>\n",
              "      <td>282.269775</td>\n",
              "      <td>00:26</td>\n",
              "    </tr>\n",
              "  </tbody>\n",
              "</table>"
            ],
            "text/plain": [
              "<IPython.core.display.HTML object>"
            ]
          },
          "metadata": {
            "tags": []
          }
        }
      ]
    }
  ]
}